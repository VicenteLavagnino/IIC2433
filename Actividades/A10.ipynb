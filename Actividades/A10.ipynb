{
 "cells": [
  {
   "cell_type": "code",
   "execution_count": null,
   "metadata": {},
   "outputs": [],
   "source": [
    "!pip3 install econml"
   ]
  },
  {
   "cell_type": "code",
   "execution_count": null,
   "metadata": {},
   "outputs": [],
   "source": [
    "!pip3 install lightgbm"
   ]
  },
  {
   "cell_type": "code",
   "execution_count": null,
   "metadata": {},
   "outputs": [],
   "source": [
    "import numpy as np\n",
    "import pandas as pd\n",
    "from scipy import stats\n",
    "\n",
    "import dowhy\n",
    "from dowhy import CausalModel\n",
    "\n",
    "from scipy import stats\n",
    "import statsmodels.api as sm\n",
    "\n",
    "from itertools import combinations\n",
    "\n",
    "NOISE_LEVEL = .2\n",
    "N_SAMPLES = 1000\n",
    "\n",
    "# Generate the data\n",
    "a = np.random.randn(N_SAMPLES) \n",
    "x = a + NOISE_LEVEL*np.random.randn(N_SAMPLES) \n",
    "b = x + NOISE_LEVEL*np.random.randn(N_SAMPLES)\n",
    "y = a + x + b + NOISE_LEVEL*np.random.randn(N_SAMPLES)\n",
    "c = y + b + NOISE_LEVEL*np.random.randn(N_SAMPLES)\n",
    "\n",
    "# Get combinations\n",
    "combs = list(combinations([('a', a), ('b', b), ('c', c), ('x', x), ('y', y)], 2))\n",
    "\n",
    "data = pd.DataFrame(np.vstack([a, b, x, c, y]).T, columns=['A', 'B', 'X', 'C', 'Y'])\n",
    "\n",
    "data.head()"
   ]
  },
  {
   "cell_type": "code",
   "execution_count": null,
   "metadata": {},
   "outputs": [],
   "source": [
    "nodes = ['A', 'B', 'X', 'C', 'Y']\n",
    "edges = [\n",
    "    ('A', 'X'),\n",
    "    ('X', 'B'),\n",
    "    ('A', 'Y'),\n",
    "    ('X', 'Y'),\n",
    "    ('B', 'Y'),\n",
    "    ('Y', 'C'),\n",
    "    ('B', 'C')\n",
    "]\n",
    "\n",
    "gml_string = 'graph [directed 1\\n'\n",
    "\n",
    "for node in nodes:\n",
    "    gml_string += f'\\tnode [id \"{node}\" label \"{node}\"]\\n'\n",
    "\n",
    "for edge in edges:\n",
    "    gml_string += f'\\tedge [source \"{edge[0]}\" target \"{edge[1]}\"]\\n'\n",
    "    \n",
    "gml_string += ']'\n",
    "\n",
    "model = CausalModel(\n",
    "    data=data,\n",
    "    treatment='X',\n",
    "    outcome='Y',\n",
    "    graph=gml_string\n",
    ")\n",
    "\n",
    "model.view_model()"
   ]
  },
  {
   "cell_type": "code",
   "execution_count": null,
   "metadata": {},
   "outputs": [],
   "source": [
    "estimand = model.identify_effect()\n",
    "\n",
    "print(estimand)"
   ]
  },
  {
   "cell_type": "code",
   "execution_count": null,
   "metadata": {},
   "outputs": [],
   "source": [
    "from lightgbm import LGBMRegressor\n",
    "from sklearn.linear_model import LogisticRegression\n",
    "\n",
    "\n",
    "\n",
    "estimate = model.estimate_effect(\n",
    "    identified_estimand=estimand,\n",
    "    method_name='backdoor.econml.dml.LinearDML',\n",
    "    method_params={\n",
    "        'init_params': {\n",
    "            'model_y': LGBMRegressor(n_estimators=500, max_depth=10),\n",
    "            'model_t': LogisticRegression(),\n",
    "            'discrete_treatment': False,\n",
    "            'cv': 4\n",
    "        },\n",
    "        'fit_params': {}\n",
    "    })\n",
    "\n",
    "estimate.cate_estimates.mean()"
   ]
  }
 ],
 "metadata": {
  "kernelspec": {
   "display_name": "venv_umap",
   "language": "python",
   "name": "python3"
  },
  "language_info": {
   "codemirror_mode": {
    "name": "ipython",
    "version": 3
   },
   "file_extension": ".py",
   "mimetype": "text/x-python",
   "name": "python",
   "nbconvert_exporter": "python",
   "pygments_lexer": "ipython3",
   "version": "3.11.10"
  }
 },
 "nbformat": 4,
 "nbformat_minor": 2
}
