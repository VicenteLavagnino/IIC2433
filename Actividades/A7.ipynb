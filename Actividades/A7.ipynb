{
 "cells": [
  {
   "cell_type": "code",
   "execution_count": 37,
   "metadata": {},
   "outputs": [
    {
     "name": "stdout",
     "output_type": "stream",
     "text": [
      "Requirement already satisfied: pgmpy in /Library/Frameworks/Python.framework/Versions/3.12/lib/python3.12/site-packages (1.0.0)\n",
      "Requirement already satisfied: networkx in /Library/Frameworks/Python.framework/Versions/3.12/lib/python3.12/site-packages (from pgmpy) (3.3)\n",
      "Requirement already satisfied: numpy in /Library/Frameworks/Python.framework/Versions/3.12/lib/python3.12/site-packages (from pgmpy) (1.26.4)\n",
      "Requirement already satisfied: scipy in /Library/Frameworks/Python.framework/Versions/3.12/lib/python3.12/site-packages (from pgmpy) (1.14.0)\n",
      "Requirement already satisfied: scikit-learn in /Library/Frameworks/Python.framework/Versions/3.12/lib/python3.12/site-packages (from pgmpy) (1.6.1)\n",
      "Requirement already satisfied: pandas in /Library/Frameworks/Python.framework/Versions/3.12/lib/python3.12/site-packages (from pgmpy) (2.2.1)\n",
      "Requirement already satisfied: torch in /Library/Frameworks/Python.framework/Versions/3.12/lib/python3.12/site-packages (from pgmpy) (2.7.0)\n",
      "Requirement already satisfied: statsmodels in /Library/Frameworks/Python.framework/Versions/3.12/lib/python3.12/site-packages (from pgmpy) (0.14.4)\n",
      "Requirement already satisfied: tqdm in /Library/Frameworks/Python.framework/Versions/3.12/lib/python3.12/site-packages (from pgmpy) (4.67.1)\n",
      "Requirement already satisfied: joblib in /Library/Frameworks/Python.framework/Versions/3.12/lib/python3.12/site-packages (from pgmpy) (1.5.0)\n",
      "Requirement already satisfied: opt-einsum in /Library/Frameworks/Python.framework/Versions/3.12/lib/python3.12/site-packages (from pgmpy) (3.4.0)\n",
      "Requirement already satisfied: pyro-ppl in /Library/Frameworks/Python.framework/Versions/3.12/lib/python3.12/site-packages (from pgmpy) (1.9.1)\n",
      "Requirement already satisfied: python-dateutil>=2.8.2 in /Library/Frameworks/Python.framework/Versions/3.12/lib/python3.12/site-packages (from pandas->pgmpy) (2.9.0.post0)\n",
      "Requirement already satisfied: pytz>=2020.1 in /Library/Frameworks/Python.framework/Versions/3.12/lib/python3.12/site-packages (from pandas->pgmpy) (2024.1)\n",
      "Requirement already satisfied: tzdata>=2022.7 in /Library/Frameworks/Python.framework/Versions/3.12/lib/python3.12/site-packages (from pandas->pgmpy) (2024.1)\n",
      "Requirement already satisfied: pyro-api>=0.1.1 in /Library/Frameworks/Python.framework/Versions/3.12/lib/python3.12/site-packages (from pyro-ppl->pgmpy) (0.1.2)\n",
      "Requirement already satisfied: filelock in /Library/Frameworks/Python.framework/Versions/3.12/lib/python3.12/site-packages (from torch->pgmpy) (3.18.0)\n",
      "Requirement already satisfied: typing-extensions>=4.10.0 in /Library/Frameworks/Python.framework/Versions/3.12/lib/python3.12/site-packages (from torch->pgmpy) (4.13.2)\n",
      "Requirement already satisfied: setuptools in /Library/Frameworks/Python.framework/Versions/3.12/lib/python3.12/site-packages (from torch->pgmpy) (80.3.1)\n",
      "Requirement already satisfied: sympy>=1.13.3 in /Library/Frameworks/Python.framework/Versions/3.12/lib/python3.12/site-packages (from torch->pgmpy) (1.14.0)\n",
      "Requirement already satisfied: jinja2 in /Library/Frameworks/Python.framework/Versions/3.12/lib/python3.12/site-packages (from torch->pgmpy) (3.1.6)\n",
      "Requirement already satisfied: fsspec in /Library/Frameworks/Python.framework/Versions/3.12/lib/python3.12/site-packages (from torch->pgmpy) (2025.3.2)\n",
      "Requirement already satisfied: threadpoolctl>=3.1.0 in /Library/Frameworks/Python.framework/Versions/3.12/lib/python3.12/site-packages (from scikit-learn->pgmpy) (3.6.0)\n",
      "Requirement already satisfied: patsy>=0.5.6 in /Library/Frameworks/Python.framework/Versions/3.12/lib/python3.12/site-packages (from statsmodels->pgmpy) (1.0.1)\n",
      "Requirement already satisfied: packaging>=21.3 in /Library/Frameworks/Python.framework/Versions/3.12/lib/python3.12/site-packages (from statsmodels->pgmpy) (24.0)\n",
      "Requirement already satisfied: six>=1.5 in /Library/Frameworks/Python.framework/Versions/3.12/lib/python3.12/site-packages (from python-dateutil>=2.8.2->pandas->pgmpy) (1.16.0)\n",
      "Requirement already satisfied: mpmath<1.4,>=1.1.0 in /Library/Frameworks/Python.framework/Versions/3.12/lib/python3.12/site-packages (from sympy>=1.13.3->torch->pgmpy) (1.3.0)\n",
      "Requirement already satisfied: MarkupSafe>=2.0 in /Library/Frameworks/Python.framework/Versions/3.12/lib/python3.12/site-packages (from jinja2->torch->pgmpy) (3.0.2)\n",
      "\n",
      "\u001b[1m[\u001b[0m\u001b[34;49mnotice\u001b[0m\u001b[1;39;49m]\u001b[0m\u001b[39;49m A new release of pip is available: \u001b[0m\u001b[31;49m25.0.1\u001b[0m\u001b[39;49m -> \u001b[0m\u001b[32;49m25.1.1\u001b[0m\n",
      "\u001b[1m[\u001b[0m\u001b[34;49mnotice\u001b[0m\u001b[1;39;49m]\u001b[0m\u001b[39;49m To update, run: \u001b[0m\u001b[32;49mpip install --upgrade pip\u001b[0m\n"
     ]
    }
   ],
   "source": [
    "!pip3 install pgmpy"
   ]
  },
  {
   "cell_type": "code",
   "execution_count": 38,
   "metadata": {},
   "outputs": [
    {
     "name": "stderr",
     "output_type": "stream",
     "text": [
      "INFO:pgmpy: Datatype (N=numerical, C=Categorical Unordered, O=Categorical Ordered) inferred from data: \n",
      " {'A': 'N', 'B': 'N', 'C': 'N', 'D': 'N', 'E': 'N', 'F': 'N', 'G': 'N', 'H': 'N'}\n",
      "INFO:pgmpy: Datatype (N=numerical, C=Categorical Unordered, O=Categorical Ordered) inferred from data: \n",
      " {'A': 'N', 'B': 'N', 'C': 'N', 'D': 'N', 'E': 'N', 'F': 'N', 'G': 'N', 'H': 'N'}\n",
      "INFO:pgmpy: Datatype (N=numerical, C=Categorical Unordered, O=Categorical Ordered) inferred from data: \n",
      " {'A': 'N', 'B': 'N', 'C': 'N', 'D': 'N', 'E': 'N', 'F': 'N', 'G': 'N', 'H': 'N'}\n",
      "INFO:pgmpy: Datatype (N=numerical, C=Categorical Unordered, O=Categorical Ordered) inferred from data: \n",
      " {'A': 'N', 'B': 'N', 'C': 'N', 'D': 'N', 'E': 'N', 'F': 'N', 'G': 'N', 'H': 'N'}\n",
      "  0%|          | 7/1000000 [00:00<1:40:35, 165.69it/s]"
     ]
    },
    {
     "name": "stdout",
     "output_type": "stream",
     "text": [
      "[('A', 'H'), ('A', 'C'), ('A', 'B'), ('C', 'B'), ('D', 'G'), ('E', 'G'), ('F', 'H')]\n"
     ]
    },
    {
     "name": "stderr",
     "output_type": "stream",
     "text": [
      "\n"
     ]
    }
   ],
   "source": [
    "import numpy as np \n",
    "import pandas as pd\n",
    "from pgmpy.estimators import BIC\n",
    "from pgmpy.models import DiscreteBayesianNetwork\n",
    "from pgmpy.estimators import HillClimbSearch\n",
    "\n",
    "\n",
    "data = pd.DataFrame(np.random.randint(0, 3, size=(2500, 8)), columns=list ('ABCDEFGH'))\n",
    "data['A'] += data['B'] + data['C']\n",
    "data['H'] = data['G'] - data['A'] + data['F']\n",
    "data['G'] += data['D'] + data['E']\n",
    "\n",
    "# Usando redes bayesianas\n",
    "# Aprenda la red de dependencias entre variables usando BIC y Hill Climbing.\n",
    "bic = BIC(data)\n",
    "hc = HillClimbSearch(data)\n",
    "best_model = hc.estimate(scoring_method=BIC(data))\n",
    "print(best_model.edges())"
   ]
  },
  {
   "cell_type": "code",
   "execution_count": 39,
   "metadata": {},
   "outputs": [
    {
     "name": "stdout",
     "output_type": "stream",
     "text": [
      "-23211.189599012832\n"
     ]
    }
   ],
   "source": [
    "# Use las dependencias aprendidas para crear una red Bayesiana.\n",
    "model = DiscreteBayesianNetwork([('A', 'H'), ('A', 'C'), ('A', 'B'), ('B', 'C'), ('D', 'G'), ('E', 'G'), ('F', 'H')])\n",
    "\n",
    "print(bic.score(model))"
   ]
  },
  {
   "cell_type": "code",
   "execution_count": 40,
   "metadata": {},
   "outputs": [
    {
     "name": "stderr",
     "output_type": "stream",
     "text": [
      "INFO:pgmpy: Datatype (N=numerical, C=Categorical Unordered, O=Categorical Ordered) inferred from data: \n",
      " {'A': 'N', 'B': 'N', 'C': 'N', 'D': 'N', 'E': 'N', 'F': 'N', 'G': 'N', 'H': 'N'}\n"
     ]
    },
    {
     "name": "stdout",
     "output_type": "stream",
     "text": [
      "+------+-----------+\n",
      "| A(0) | 0.0483779 |\n",
      "+------+-----------+\n",
      "| A(1) | 0.115709  |\n",
      "+------+-----------+\n",
      "| A(2) | 0.216107  |\n",
      "+------+-----------+\n",
      "| A(3) | 0.249573  |\n",
      "+------+-----------+\n",
      "| A(4) | 0.219693  |\n",
      "+------+-----------+\n",
      "| A(5) | 0.111326  |\n",
      "+------+-----------+\n",
      "| A(6) | 0.0392146 |\n",
      "+------+-----------+\n",
      "+-------+-----------------------+-----+-----------------------+\n",
      "| A     | A(0)                  | ... | A(6)                  |\n",
      "+-------+-----------------------+-----+-----------------------+\n",
      "| F     | F(0)                  | ... | F(2)                  |\n",
      "+-------+-----------------------+-----+-----------------------+\n",
      "| H(-6) | 0.0012556504269211452 | ... | 0.0014686444411807905 |\n",
      "+-------+-----------------------+-----+-----------------------+\n",
      "| H(-5) | 0.0012556504269211452 | ... | 0.0014686444411807905 |\n",
      "+-------+-----------------------+-----+-----------------------+\n",
      "| H(-4) | 0.0012556504269211452 | ... | 0.27287413717139086   |\n",
      "+-------+-----------------------+-----+-----------------------+\n",
      "| H(-3) | 0.0012556504269211452 | ... | 0.3067998237626671    |\n",
      "+-------+-----------------------+-----+-----------------------+\n",
      "| H(-2) | 0.0012556504269211452 | ... | 0.4085768835364959    |\n",
      "+-------+-----------------------+-----+-----------------------+\n",
      "| H(-1) | 0.0012556504269211452 | ... | 0.0014686444411807905 |\n",
      "+-------+-----------------------+-----+-----------------------+\n",
      "| H(0)  | 0.32031642390758414   | ... | 0.0014686444411807905 |\n",
      "+-------+-----------------------+-----+-----------------------+\n",
      "| H(1)  | 0.3493219487694626    | ... | 0.0014686444411807905 |\n",
      "+-------+-----------------------+-----+-----------------------+\n",
      "| H(2)  | 0.32031642390758414   | ... | 0.0014686444411807905 |\n",
      "+-------+-----------------------+-----+-----------------------+\n",
      "| H(3)  | 0.0012556504269211452 | ... | 0.0014686444411807905 |\n",
      "+-------+-----------------------+-----+-----------------------+\n",
      "| H(4)  | 0.0012556504269211452 | ... | 0.0014686444411807905 |\n",
      "+-------+-----------------------+-----+-----------------------+\n",
      "+------+----------------------+-----+----------------------+\n",
      "| A    | A(0)                 | ... | A(6)                 |\n",
      "+------+----------------------+-----+----------------------+\n",
      "| B    | B(0)                 | ... | B(2)                 |\n",
      "+------+----------------------+-----+----------------------+\n",
      "| C(0) | 0.9973649538866929   | ... | 0.001628399283504315 |\n",
      "+------+----------------------+-----+----------------------+\n",
      "| C(1) | 0.001317523056653491 | ... | 0.001628399283504315 |\n",
      "+------+----------------------+-----+----------------------+\n",
      "| C(2) | 0.001317523056653491 | ... | 0.9967432014329913   |\n",
      "+------+----------------------+-----+----------------------+\n",
      "+------+-----------------------+-----+----------------------+\n",
      "| A    | A(0)                  | ... | A(6)                 |\n",
      "+------+-----------------------+-----+----------------------+\n",
      "| B(0) | 0.992156862745098     | ... | 0.004837929366231252 |\n",
      "+------+-----------------------+-----+----------------------+\n",
      "| B(1) | 0.0039215686274509795 | ... | 0.004837929366231252 |\n",
      "+------+-----------------------+-----+----------------------+\n",
      "| B(2) | 0.0039215686274509795 | ... | 0.9903241412675375   |\n",
      "+------+-----------------------+-----+----------------------+\n",
      "+------+----------+\n",
      "| D(0) | 0.356308 |\n",
      "+------+----------+\n",
      "| D(1) | 0.326826 |\n",
      "+------+----------+\n",
      "| D(2) | 0.316866 |\n",
      "+------+----------+\n",
      "+------+-----------------------+-----+----------------------+\n",
      "| D    | D(0)                  | ... | D(2)                 |\n",
      "+------+-----------------------+-----+----------------------+\n",
      "| E    | E(0)                  | ... | E(2)                 |\n",
      "+------+-----------------------+-----+----------------------+\n",
      "| G(0) | 0.3226673695308381    | ... | 0.000650237336627869 |\n",
      "+------+-----------------------+-----+----------------------+\n",
      "| G(1) | 0.3459146020031628    | ... | 0.000650237336627869 |\n",
      "+------+-----------------------+-----+----------------------+\n",
      "| G(2) | 0.3293094359515023    | ... | 0.000650237336627869 |\n",
      "+------+-----------------------+-----+----------------------+\n",
      "| G(3) | 0.0005271481286241432 | ... | 0.000650237336627869 |\n",
      "+------+-----------------------+-----+----------------------+\n",
      "| G(4) | 0.0005271481286241432 | ... | 0.35294882632160735  |\n",
      "+------+-----------------------+-----+----------------------+\n",
      "| G(5) | 0.0005271481286241432 | ... | 0.3775277976461408   |\n",
      "+------+-----------------------+-----+----------------------+\n",
      "| G(6) | 0.0005271481286241432 | ... | 0.2669224266857403   |\n",
      "+------+-----------------------+-----+----------------------+\n",
      "+------+----------+\n",
      "| E(0) | 0.337185 |\n",
      "+------+----------+\n",
      "| E(1) | 0.342762 |\n",
      "+------+----------+\n",
      "| E(2) | 0.320053 |\n",
      "+------+----------+\n",
      "+------+----------+\n",
      "| F(0) | 0.324436 |\n",
      "+------+----------+\n",
      "| F(1) | 0.332802 |\n",
      "+------+----------+\n",
      "| F(2) | 0.342762 |\n",
      "+------+----------+\n"
     ]
    }
   ],
   "source": [
    "# Ajuste los parámetros de la red usando priors de Dirichlet con cuentas uniformes. Obtenga los cpds de la red.\n",
    "from pgmpy.estimators import BayesianEstimator\n",
    "\n",
    "est = BayesianEstimator(model, data)\n",
    "\n",
    "for node in model.nodes():\n",
    "    print(est.estimate_cpd(node, prior_type='BDeu', equivalent_sample_size=10))"
   ]
  },
  {
   "cell_type": "code",
   "execution_count": 53,
   "metadata": {},
   "outputs": [
    {
     "name": "stdout",
     "output_type": "stream",
     "text": [
      "(A ⟂ D, F, E, G)\n",
      "(B ⟂ D, H, F, E, G | A)\n",
      "(C ⟂ D, H, F, E, G | A, B)\n",
      "(D ⟂ B, E, H, A, F, C)\n",
      "(E ⟂ B, D, H, A, F, C)\n",
      "(F ⟂ B, D, A, E, C, G)\n",
      "(G ⟂ B, H, A, F, C | D, E)\n",
      "(H ⟂ B, D, E, C, G | A, F)\n"
     ]
    }
   ],
   "source": [
    "# Muestre las independencias locales de todas las variables de la red. Explique.\n",
    "print(model.local_independencies('A'))\n",
    "print(model.local_independencies('B'))\n",
    "print(model.local_independencies('C'))\n",
    "print(model.local_independencies('D'))\n",
    "print(model.local_independencies('E'))\n",
    "print(model.local_independencies('F'))\n",
    "print(model.local_independencies('G'))\n",
    "print(model.local_independencies('H'))"
   ]
  },
  {
   "cell_type": "markdown",
   "metadata": {},
   "source": [
    "Explique: "
   ]
  },
  {
   "cell_type": "code",
   "execution_count": 56,
   "metadata": {},
   "outputs": [
    {
     "name": "stdout",
     "output_type": "stream",
     "text": [
      "+-------+-----------------------+-----+-----------------------+\n",
      "| A     | A(0)                  | ... | A(6)                  |\n",
      "+-------+-----------------------+-----+-----------------------+\n",
      "| F     | F(0)                  | ... | F(2)                  |\n",
      "+-------+-----------------------+-----+-----------------------+\n",
      "| H(-6) | 0.0012556504269211452 | ... | 0.0014686444411807905 |\n",
      "+-------+-----------------------+-----+-----------------------+\n",
      "| H(-5) | 0.0012556504269211452 | ... | 0.0014686444411807905 |\n",
      "+-------+-----------------------+-----+-----------------------+\n",
      "| H(-4) | 0.0012556504269211452 | ... | 0.27287413717139086   |\n",
      "+-------+-----------------------+-----+-----------------------+\n",
      "| H(-3) | 0.0012556504269211452 | ... | 0.3067998237626671    |\n",
      "+-------+-----------------------+-----+-----------------------+\n",
      "| H(-2) | 0.0012556504269211452 | ... | 0.4085768835364959    |\n",
      "+-------+-----------------------+-----+-----------------------+\n",
      "| H(-1) | 0.0012556504269211452 | ... | 0.0014686444411807905 |\n",
      "+-------+-----------------------+-----+-----------------------+\n",
      "| H(0)  | 0.32031642390758414   | ... | 0.0014686444411807905 |\n",
      "+-------+-----------------------+-----+-----------------------+\n",
      "| H(1)  | 0.3493219487694626    | ... | 0.0014686444411807905 |\n",
      "+-------+-----------------------+-----+-----------------------+\n",
      "| H(2)  | 0.32031642390758414   | ... | 0.0014686444411807905 |\n",
      "+-------+-----------------------+-----+-----------------------+\n",
      "| H(3)  | 0.0012556504269211452 | ... | 0.0014686444411807905 |\n",
      "+-------+-----------------------+-----+-----------------------+\n",
      "| H(4)  | 0.0012556504269211452 | ... | 0.0014686444411807905 |\n",
      "+-------+-----------------------+-----+-----------------------+\n"
     ]
    }
   ],
   "source": [
    "# Obtenga la cpd de H. ¿Cuál es la cardinalidad de H?\n",
    "print(est.estimate_cpd('H', prior_type='BDeu', equivalent_sample_size=10))"
   ]
  },
  {
   "cell_type": "code",
   "execution_count": 60,
   "metadata": {},
   "outputs": [
    {
     "name": "stderr",
     "output_type": "stream",
     "text": [
      "INFO:pgmpy: Datatype (N=numerical, C=Categorical Unordered, O=Categorical Ordered) inferred from data: \n",
      " {'A': 'N', 'B': 'N', 'C': 'N', 'D': 'N', 'E': 'N', 'F': 'N', 'G': 'N', 'H': 'N'}\n",
      "WARNING:pgmpy:Replacing existing CPD for A\n",
      "WARNING:pgmpy:Replacing existing CPD for H\n",
      "WARNING:pgmpy:Replacing existing CPD for C\n",
      "WARNING:pgmpy:Replacing existing CPD for B\n",
      "WARNING:pgmpy:Replacing existing CPD for D\n",
      "WARNING:pgmpy:Replacing existing CPD for G\n",
      "WARNING:pgmpy:Replacing existing CPD for E\n",
      "WARNING:pgmpy:Replacing existing CPD for F\n"
     ]
    },
    {
     "name": "stdout",
     "output_type": "stream",
     "text": [
      "+-------+----------+\n",
      "| H     |   phi(H) |\n",
      "+=======+==========+\n",
      "| H(-6) |   0.0006 |\n",
      "+-------+----------+\n",
      "| H(-5) |   0.0008 |\n",
      "+-------+----------+\n",
      "| H(-4) |   0.0010 |\n",
      "+-------+----------+\n",
      "| H(-3) |   0.0012 |\n",
      "+-------+----------+\n",
      "| H(-2) |   0.0012 |\n",
      "+-------+----------+\n",
      "| H(-1) |   0.1038 |\n",
      "+-------+----------+\n",
      "| H(0)  |   0.2218 |\n",
      "+-------+----------+\n",
      "| H(1)  |   0.3143 |\n",
      "+-------+----------+\n",
      "| H(2)  |   0.2750 |\n",
      "+-------+----------+\n",
      "| H(3)  |   0.0797 |\n",
      "+-------+----------+\n",
      "| H(4)  |   0.0006 |\n",
      "+-------+----------+\n"
     ]
    }
   ],
   "source": [
    "# Dispone de la siguiente evidencia: 'B': O, 'C: 0, 'D': 1, 'E': O, 'F: 1. Determine cual es el resultado más probable para H.\n",
    "\n",
    "from pgmpy.inference import VariableElimination\n",
    "\n",
    "\n",
    "# First, estimate CPDs for each node and add them to the model\n",
    "est = BayesianEstimator(model, data)\n",
    "\n",
    "# Create CPDs for each node and add them to the model\n",
    "cpds = []\n",
    "for node in model.nodes():\n",
    "    cpd = est.estimate_cpd(node, prior_type='BDeu', equivalent_sample_size=10)\n",
    "    cpds.append(cpd)\n",
    "\n",
    "# Add the CPDs to the model\n",
    "model.add_cpds(*cpds)\n",
    "\n",
    "# Check if the model is valid\n",
    "model.check_model()\n",
    "\n",
    "infer = VariableElimination(model)\n",
    "\n",
    "print(infer.query(['H'], evidence={'B': 0, 'C': 0, 'D': 1, 'E': 0, 'F': 1}))\n",
    "\n"
   ]
  }
 ],
 "metadata": {
  "kernelspec": {
   "display_name": "venv_umap",
   "language": "python",
   "name": "python3"
  },
  "language_info": {
   "codemirror_mode": {
    "name": "ipython",
    "version": 3
   },
   "file_extension": ".py",
   "mimetype": "text/x-python",
   "name": "python",
   "nbconvert_exporter": "python",
   "pygments_lexer": "ipython3",
   "version": "3.11.10"
  }
 },
 "nbformat": 4,
 "nbformat_minor": 2
}
