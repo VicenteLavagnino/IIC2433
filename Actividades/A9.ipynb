{
 "cells": [
  {
   "cell_type": "code",
   "execution_count": 23,
   "metadata": {},
   "outputs": [],
   "source": [
    "import numpy as np\n",
    "import pandas as pd\n",
    "from scipy import stats\n",
    "\n",
    "import dowhy\n",
    "from dowhy import CausalModel"
   ]
  },
  {
   "cell_type": "code",
   "execution_count": 36,
   "metadata": {},
   "outputs": [],
   "source": [
    "class GPSMemorySCM:\n",
    "\n",
    "    def __init__(self, random_seed=None):\n",
    "        self.random_seed = random_seed\n",
    "        self.u_x = stats.truncnorm(0, np.inf, scale=5)\n",
    "        self.u_y = stats.norm(scale=2)\n",
    "        self.u_z1 = stats.norm(scale=2)\n",
    "        self.u_z2 = stats.norm(scale=2)\n",
    "        self.u = stats.truncnorm(0, np.inf, scale=4)\n",
    "\n",
    "    def sample(self, sample_size=100, treatment_value=None):\n",
    "        \"\"\"Samples from the SCM\"\"\"\n",
    "        if self.random_seed:\n",
    "            np.random.seed(self.random_seed)\n",
    "\n",
    "        u_x = self.u_x.rvs(sample_size)\n",
    "        u_y = self.u_y.rvs(sample_size)\n",
    "        u_z1 = self.u_z1.rvs(sample_size)\n",
    "        u_z2 = self.u_z2.rvs(sample_size)\n",
    "        u = self.u.rvs(sample_size)\n",
    "\n",
    "        if treatment_value:\n",
    "            gps = np.array([treatment_value] * sample_size)\n",
    "        else:\n",
    "            gps = u_x + 0.7 * u\n",
    "\n",
    "        hippocampus = -0.2 * gps + 0.35 * u_z1\n",
    "        sensoring = 0.25 * u_z2 - 0.2 * hippocampus\n",
    "        memory = 0.45 * u + 0.25 * sensoring\n",
    "\n",
    "        return gps, hippocampus, sensoring, memory\n",
    "\n",
    "    def intervene(self, treatment_value, sample_size=100):\n",
    "        \"\"\"Intervenes on the SCM\"\"\"\n",
    "        return self.sample(treatment_value=treatment_value, sample_size=sample_size)"
   ]
  },
  {
   "cell_type": "code",
   "execution_count": 37,
   "metadata": {},
   "outputs": [],
   "source": [
    "# Instantiate the SCM\n",
    "scm = GPSMemorySCM()\n",
    "\n",
    "# Generate observational data\n",
    "gps_obs, hippocampus_obs, sensoring_obs, memory_obs = scm.sample(1000)\n",
    "\n",
    "# Encode as a pandas df\n",
    "df = pd.DataFrame(\n",
    "    np.vstack([gps_obs, hippocampus_obs, sensoring_obs, memory_obs]).T, columns=[\"X\", \"Z\", \"W\", \"Y\"]\n",
    ")"
   ]
  },
  {
   "cell_type": "code",
   "execution_count": 38,
   "metadata": {},
   "outputs": [
    {
     "data": {
      "text/html": [
       "<div>\n",
       "<style scoped>\n",
       "    .dataframe tbody tr th:only-of-type {\n",
       "        vertical-align: middle;\n",
       "    }\n",
       "\n",
       "    .dataframe tbody tr th {\n",
       "        vertical-align: top;\n",
       "    }\n",
       "\n",
       "    .dataframe thead th {\n",
       "        text-align: right;\n",
       "    }\n",
       "</style>\n",
       "<table border=\"1\" class=\"dataframe\">\n",
       "  <thead>\n",
       "    <tr style=\"text-align: right;\">\n",
       "      <th></th>\n",
       "      <th>X</th>\n",
       "      <th>Z</th>\n",
       "      <th>W</th>\n",
       "      <th>Y</th>\n",
       "    </tr>\n",
       "  </thead>\n",
       "  <tbody>\n",
       "    <tr>\n",
       "      <th>0</th>\n",
       "      <td>5.899745</td>\n",
       "      <td>-0.467022</td>\n",
       "      <td>-1.359655</td>\n",
       "      <td>0.031358</td>\n",
       "    </tr>\n",
       "    <tr>\n",
       "      <th>1</th>\n",
       "      <td>5.277099</td>\n",
       "      <td>-1.088163</td>\n",
       "      <td>0.576982</td>\n",
       "      <td>2.240177</td>\n",
       "    </tr>\n",
       "    <tr>\n",
       "      <th>2</th>\n",
       "      <td>10.317788</td>\n",
       "      <td>-2.075394</td>\n",
       "      <td>-0.119706</td>\n",
       "      <td>3.844564</td>\n",
       "    </tr>\n",
       "    <tr>\n",
       "      <th>3</th>\n",
       "      <td>9.428606</td>\n",
       "      <td>-1.746431</td>\n",
       "      <td>-0.367805</td>\n",
       "      <td>2.389196</td>\n",
       "    </tr>\n",
       "    <tr>\n",
       "      <th>4</th>\n",
       "      <td>11.670525</td>\n",
       "      <td>-2.505667</td>\n",
       "      <td>0.279744</td>\n",
       "      <td>2.332453</td>\n",
       "    </tr>\n",
       "    <tr>\n",
       "      <th>...</th>\n",
       "      <td>...</td>\n",
       "      <td>...</td>\n",
       "      <td>...</td>\n",
       "      <td>...</td>\n",
       "    </tr>\n",
       "    <tr>\n",
       "      <th>995</th>\n",
       "      <td>11.512150</td>\n",
       "      <td>-2.538028</td>\n",
       "      <td>0.644965</td>\n",
       "      <td>1.952960</td>\n",
       "    </tr>\n",
       "    <tr>\n",
       "      <th>996</th>\n",
       "      <td>3.825967</td>\n",
       "      <td>-0.793832</td>\n",
       "      <td>0.136650</td>\n",
       "      <td>1.512556</td>\n",
       "    </tr>\n",
       "    <tr>\n",
       "      <th>997</th>\n",
       "      <td>3.768008</td>\n",
       "      <td>0.374120</td>\n",
       "      <td>-0.214379</td>\n",
       "      <td>1.361875</td>\n",
       "    </tr>\n",
       "    <tr>\n",
       "      <th>998</th>\n",
       "      <td>4.499537</td>\n",
       "      <td>-0.923700</td>\n",
       "      <td>0.326937</td>\n",
       "      <td>2.238676</td>\n",
       "    </tr>\n",
       "    <tr>\n",
       "      <th>999</th>\n",
       "      <td>7.006105</td>\n",
       "      <td>-0.858433</td>\n",
       "      <td>0.194984</td>\n",
       "      <td>0.811031</td>\n",
       "    </tr>\n",
       "  </tbody>\n",
       "</table>\n",
       "<p>1000 rows × 4 columns</p>\n",
       "</div>"
      ],
      "text/plain": [
       "             X         Z         W         Y\n",
       "0     5.899745 -0.467022 -1.359655  0.031358\n",
       "1     5.277099 -1.088163  0.576982  2.240177\n",
       "2    10.317788 -2.075394 -0.119706  3.844564\n",
       "3     9.428606 -1.746431 -0.367805  2.389196\n",
       "4    11.670525 -2.505667  0.279744  2.332453\n",
       "..         ...       ...       ...       ...\n",
       "995  11.512150 -2.538028  0.644965  1.952960\n",
       "996   3.825967 -0.793832  0.136650  1.512556\n",
       "997   3.768008  0.374120 -0.214379  1.361875\n",
       "998   4.499537 -0.923700  0.326937  2.238676\n",
       "999   7.006105 -0.858433  0.194984  0.811031\n",
       "\n",
       "[1000 rows x 4 columns]"
      ]
     },
     "execution_count": 38,
     "metadata": {},
     "output_type": "execute_result"
    }
   ],
   "source": [
    "df"
   ]
  },
  {
   "cell_type": "code",
   "execution_count": 39,
   "metadata": {},
   "outputs": [],
   "source": [
    "gml_graph = \"\"\"\n",
    "graph [\n",
    "    directed 1\n",
    "    \n",
    "    node [\n",
    "        id \"X\" \n",
    "        label \"X\"\n",
    "    ]    \n",
    "    node [\n",
    "        id \"Z\"\n",
    "        label \"Z\"\n",
    "    ]\n",
    "    node [\n",
    "        id \"Y\"\n",
    "        label \"Y\"\n",
    "    ]\n",
    "    node [\n",
    "        id \"U\"\n",
    "        label \"U\"\n",
    "    ]\n",
    "    node [\n",
    "        id \"W\"\n",
    "        label \"W\"\n",
    "    ]\n",
    "    \n",
    "    edge [\n",
    "        source \"X\"\n",
    "        target \"Z\"\n",
    "    ]\n",
    "    edge [\n",
    "        source \"Z\"\n",
    "        target \"W\"\n",
    "    ]\n",
    "    edge [\n",
    "        source \"W\"\n",
    "        target \"Y\"\n",
    "    ]\n",
    "    edge [\n",
    "        source \"U\"\n",
    "        target \"Z\"\n",
    "    ]\n",
    "    edge [\n",
    "        source \"U\"\n",
    "        target \"W\"\n",
    "    ]\n",
    "    edge [\n",
    "        source \"U\"\n",
    "        target \"Y\"\n",
    "    ]\n",
    "]\n",
    "\"\"\""
   ]
  },
  {
   "cell_type": "code",
   "execution_count": 40,
   "metadata": {},
   "outputs": [
    {
     "name": "stderr",
     "output_type": "stream",
     "text": [
      "/Users/vicentelavagnino/Desktop/IIC2433-GH/venv_umap/lib/python3.11/site-packages/dowhy/causal_model.py:583: UserWarning: 1 variables are assumed unobserved because they are not in the dataset. Configure the logging level to `logging.WARNING` or higher for additional details.\n",
      "  warnings.warn(\n"
     ]
    }
   ],
   "source": [
    "model = CausalModel(data=df, treatment=\"X\", outcome=\"Y\", graph=gml_graph)"
   ]
  },
  {
   "cell_type": "code",
   "execution_count": 41,
   "metadata": {},
   "outputs": [
    {
     "data": {
      "image/png": "[encoded data removed]",
      "text/plain": [
       "<Figure size 800x600 with 1 Axes>"
      ]
     },
     "metadata": {},
     "output_type": "display_data"
    }
   ],
   "source": [
    "model.view_model()"
   ]
  },
  {
   "cell_type": "code",
   "execution_count": 42,
   "metadata": {},
   "outputs": [
    {
     "name": "stdout",
     "output_type": "stream",
     "text": [
      "Estimand type: EstimandType.NONPARAMETRIC_ATE\n",
      "\n",
      "### Estimand : 1\n",
      "Estimand name: backdoor\n",
      "Estimand expression:\n",
      " d        \n",
      "────(E[Y])\n",
      "d[X]      \n",
      "Estimand assumption 1, Unconfoundedness: If U→{X} and U→Y then P(Y|X,,U) = P(Y|X,)\n",
      "\n",
      "### Estimand : 2\n",
      "Estimand name: iv\n",
      "No such variable(s) found!\n",
      "\n",
      "### Estimand : 3\n",
      "Estimand name: frontdoor\n",
      "No such variable(s) found!\n",
      "\n"
     ]
    }
   ],
   "source": [
    "estimand = model.identify_effect()\n",
    "print(estimand)"
   ]
  },
  {
   "cell_type": "code",
   "execution_count": null,
   "metadata": {},
   "outputs": [],
   "source": []
  }
 ],
 "metadata": {
  "kernelspec": {
   "display_name": "venv_umap",
   "language": "python",
   "name": "python3"
  },
  "language_info": {
   "codemirror_mode": {
    "name": "ipython",
    "version": 3
   },
   "file_extension": ".py",
   "mimetype": "text/x-python",
   "name": "python",
   "nbconvert_exporter": "python",
   "pygments_lexer": "ipython3",
   "version": "3.11.10"
  }
 },
 "nbformat": 4,
 "nbformat_minor": 2
}
