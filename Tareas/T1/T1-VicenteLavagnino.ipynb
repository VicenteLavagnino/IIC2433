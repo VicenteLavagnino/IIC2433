{
 "cells": [
  {
   "cell_type": "markdown",
   "metadata": {
    "id": "FyoSWRNG4V6j"
   },
   "source": [
    "Pontificia Universidad Católica de Chile <br>\n",
    "Departamento de Ciencia de la Computación <br>\n",
    "IIC2433 - Minería de Datos <br>\n",
    "Primer Semestre 2025 <br>\n",
    "\n",
    "<h1><center>Tarea 1 - Vicente Lavagnino</center></h1>\n",
    "\n",
    "Profesor: Marcelo Mendoza<br>\n",
    "Fecha de entrega: 07 de abril 2025\n",
    "\n"
   ]
  },
  {
   "cell_type": "markdown",
   "metadata": {
    "id": "IqaM5wrU4V6o"
   },
   "source": [
    "## Indicaciones\n",
    "\n",
    "Se debe entregar **SOLO** el archivo .ipynb en el buzón respectivo en canvas.\n",
    "\n",
    "**IMPORTANTE**:\n",
    "- Se asignará puntaje por el código implementado y los comentarios asociados a resultados.\n",
    "- El notebook debe tener todas las celdas de código ejecutadas.\n",
    "- El carácter de esta tarea es INDIVIDUAL.\n"
   ]
  },
  {
   "cell_type": "markdown",
   "metadata": {
    "id": "HSMjfzjn6W42"
   },
   "source": [
    "**NOMBRE ESTUDIANTE: Vicente Antonio Lavagnino Gatica**"
   ]
  },
  {
   "cell_type": "markdown",
   "metadata": {
    "id": "qF99zSnD4V6o"
   },
   "source": [
    "## Librerías"
   ]
  },
  {
   "cell_type": "code",
   "execution_count": 1,
   "metadata": {
    "id": "eM5xDd9l4V6p"
   },
   "outputs": [],
   "source": [
    "import numpy as np\n",
    "import matplotlib.pyplot as plt\n",
    "import pandas as pd\n",
    "import seaborn as sns\n",
    "\n",
    "# Importa aquí las librerías que vayas a utilizar"
   ]
  },
  {
   "cell_type": "markdown",
   "metadata": {
    "id": "E62-SJHc8J4w"
   },
   "source": [
    "## Introducción"
   ]
  },
  {
   "cell_type": "markdown",
   "metadata": {
    "id": "x8Rk2XJl8LjI"
   },
   "source": [
    "El dataset incluye variables cuantitativas y cualitativas sobre tipos de vinos.\n",
    "A continuación, se presenta una breve descripción de cada atributo:\n",
    "\n",
    "* type: Tipo de vino\n",
    "\n",
    "* fixed acidity: Cantidad de ácidos poco volátiles\n",
    "\n",
    "* volatile acidity: Cantidad de ácidos volátiles\n",
    "\n",
    "* citric acid: Cantidad de ácido cítrico\n",
    "\n",
    "* residual sugar: Cantidad de azúcar residual\n",
    "\n",
    "* chlorides: Cantidad de cloruros\n",
    "\n",
    "* free sulfur dioxide: Cantidad de dióxido de azufre libre\n",
    "\n",
    "* total sulfur dioxide: Cantidad total de dióxido de azufre\n",
    "\n",
    "* density: Densidad del vino\n",
    "\n",
    "* pH: nivel de acidez o alcalinidad\n",
    "\n",
    "* sulphates: Cantidad de sulfatos\n",
    "\n",
    "* alcohol: Cantidad de alcohol\n",
    "\n",
    "* quality: calidad del vino\n",
    "\n"
   ]
  },
  {
   "cell_type": "markdown",
   "metadata": {
    "id": "4WOcFvN44V6r"
   },
   "source": [
    "## Parte 1: Carga y Preprocesamiento de Datos (20 puntos)"
   ]
  },
  {
   "cell_type": "markdown",
   "metadata": {
    "id": "36ztPA4lnwa4"
   },
   "source": [
    "En esta primera parte se debe cargar el dataset y luego describir el comportamiento de algunas variables de interés. Posteriormente, debe realizar el proceso de normalización de los datos."
   ]
  },
  {
   "cell_type": "markdown",
   "metadata": {
    "id": "MkAOWbN04V6r"
   },
   "source": [
    "### 1.1 Carga de Datos (2 puntos)\n",
    "\n",
    "Cargue el dataset. Indique la cantidad de filas y columnas del conjunto de datos. ¿Existen datos nulos? De ser así, mencione el número de casos por variable y luego elimine todas filas que tengan a lo menos un valor nulo.\n"
   ]
  },
  {
   "cell_type": "markdown",
   "metadata": {
    "id": "FP8j4vaA4V6s"
   },
   "source": [
    "RESPUESTA:"
   ]
  },
  {
   "cell_type": "code",
   "execution_count": 6,
   "metadata": {
    "id": "-C_R50-ISH-T"
   },
   "outputs": [],
   "source": [
    "# Cargar el dataset\n",
    "df = pd.read_csv('data.csv')"
   ]
  },
  {
   "cell_type": "code",
   "execution_count": 7,
   "metadata": {},
   "outputs": [
    {
     "name": "stdout",
     "output_type": "stream",
     "text": [
      "El conjunto de datos tiene (6497, 13) filas y columnas respectivamente.\n"
     ]
    }
   ],
   "source": [
    "# Indicar cantidad de filas y columnas del conjunto de datos\n",
    "print(f\"El conjunto de datos tiene {df.shape} filas y columnas respectivamente.\")"
   ]
  },
  {
   "cell_type": "code",
   "execution_count": 8,
   "metadata": {},
   "outputs": [
    {
     "name": "stdout",
     "output_type": "stream",
     "text": [
      "Valores nulos por columna:\n",
      "type                     0\n",
      "fixed acidity           10\n",
      "volatile acidity         8\n",
      "citric acid              3\n",
      "residual sugar           2\n",
      "chlorides                2\n",
      "free sulfur dioxide      0\n",
      "total sulfur dioxide     0\n",
      "density                  0\n",
      "pH                       9\n",
      "sulphates                4\n",
      "alcohol                  0\n",
      "quality                  0\n",
      "dtype: int64\n",
      "Valores nulos totales: 38\n"
     ]
    }
   ],
   "source": [
    "# Existencia de valores nulos\n",
    "print(\"Valores nulos por columna:\")\n",
    "print(df.isnull().sum())\n",
    "print(\"Valores nulos totales:\", df.isnull().sum().sum())"
   ]
  },
  {
   "cell_type": "code",
   "execution_count": 10,
   "metadata": {},
   "outputs": [
    {
     "name": "stdout",
     "output_type": "stream",
     "text": [
      "Valores nulos después de eliminar filas: type                    0\n",
      "fixed acidity           0\n",
      "volatile acidity        0\n",
      "citric acid             0\n",
      "residual sugar          0\n",
      "chlorides               0\n",
      "free sulfur dioxide     0\n",
      "total sulfur dioxide    0\n",
      "density                 0\n",
      "pH                      0\n",
      "sulphates               0\n",
      "alcohol                 0\n",
      "quality                 0\n",
      "dtype: int64\n",
      "Valores nulos totales: 0\n"
     ]
    }
   ],
   "source": [
    "# Eliminar filas con valores nulos\n",
    "df.dropna(inplace=True)\n",
    "print(\"Valores nulos después de eliminar filas:\", df.isnull().sum())\n",
    "print(\"Valores nulos totales:\", df.isnull().sum().sum())"
   ]
  },
  {
   "cell_type": "markdown",
   "metadata": {
    "id": "O1OioMoj4V6t"
   },
   "source": [
    "### 1.2 Análisis descriptivo (12 puntos)\n",
    "\n",
    "Mediante gráficos y medidas numéricas apropiadas, describa el comportamiento de cada variable del dataset.\n",
    "\n",
    "Luego, presente gráficos que permitan relacionar las siguientes variables:\n",
    "\n",
    "* \"density\" con \"fixed acidity\"\n",
    "* \"quality\" con \"alcohol\"\n",
    "\n",
    "Analice todos los resultados obtenidos y comente."
   ]
  },
  {
   "cell_type": "markdown",
   "metadata": {
    "id": "cltP_P6l4V6u"
   },
   "source": [
    "RESPUESTA:"
   ]
  },
  {
   "cell_type": "code",
   "execution_count": null,
   "metadata": {
    "id": "YX4yiESwSJRF"
   },
   "outputs": [],
   "source": []
  },
  {
   "cell_type": "markdown",
   "metadata": {
    "id": "sChl830E4V6v"
   },
   "source": [
    "### 1.3 Normalizar datos (3 puntos)\n",
    "\n",
    "Realice un proceso de normalización, utilizando MinMaxScaler. No considere las variables quality y type.\n",
    "\n",
    "Explique por qué es útil realizar esta normalización."
   ]
  },
  {
   "cell_type": "markdown",
   "metadata": {
    "id": "CkKlMrf9E1FZ"
   },
   "source": [
    "RESPUESTA:"
   ]
  },
  {
   "cell_type": "code",
   "execution_count": null,
   "metadata": {
    "id": "ElS_bOcpSMXP"
   },
   "outputs": [],
   "source": []
  },
  {
   "cell_type": "markdown",
   "metadata": {
    "id": "vGSbAmpIoI59"
   },
   "source": [
    "### 1.4 Correlación (3 puntos)\n",
    "\n",
    "Construya una matriz de correlación. Identifique las variables que presentan una alta relación lineal (superior a 0.6 o inferior a -0.6).\n",
    "\n",
    "**Observación**\n",
    "\n",
    "Para este análisis solo trabaje con las variables normalizadas en el paso anterior."
   ]
  },
  {
   "cell_type": "markdown",
   "metadata": {
    "id": "0Vfk8Jz9o3zN"
   },
   "source": [
    "RESPUESTA:"
   ]
  },
  {
   "cell_type": "code",
   "execution_count": null,
   "metadata": {
    "id": "fQ8mYM3uSO7J"
   },
   "outputs": [],
   "source": []
  },
  {
   "cell_type": "markdown",
   "metadata": {
    "id": "lY4csAUx4V6x"
   },
   "source": [
    "## Parte 2: Reducción de dimensionalidad PCA (10 puntos)"
   ]
  },
  {
   "cell_type": "markdown",
   "metadata": {
    "id": "GvtDm6AyIyCR"
   },
   "source": [
    "**En esta segunda sección se debe utilizar el resultado 1.3 de la parte 1. Para reducir la dimensionalidad, se debe trabajar con Principal Component Analysis (PCA)**."
   ]
  },
  {
   "cell_type": "markdown",
   "metadata": {
    "id": "94PKIxrWIQgB"
   },
   "source": [
    "### 2.1 Comportamiento de la varianza (5 puntos)\n",
    "\n",
    "Grafique el comportamiento de la varianza explicada en función del número de componentes. Analice los resultados obtenidos."
   ]
  },
  {
   "cell_type": "markdown",
   "metadata": {
    "id": "m4BcKz_p9Lou"
   },
   "source": [
    "RESPUESTA:"
   ]
  },
  {
   "cell_type": "code",
   "execution_count": null,
   "metadata": {
    "id": "KgpWA7VtSr90"
   },
   "outputs": [],
   "source": []
  },
  {
   "cell_type": "markdown",
   "metadata": {
    "id": "6akiBdvS4V6x"
   },
   "source": [
    "### 2.2 Retener 90% de la varianza (3 puntos)\n",
    "\n",
    "Aplique PCA para retener un 90% de la varianza del conjunto de datos normalizado del punto 1.3. ¿Cuál es el número de componentes que se requieren?"
   ]
  },
  {
   "cell_type": "markdown",
   "metadata": {
    "id": "Dzakeo4kTzJK"
   },
   "source": [
    "RESPUESTA:"
   ]
  },
  {
   "cell_type": "code",
   "execution_count": null,
   "metadata": {
    "id": "OKvbXxgISuiV"
   },
   "outputs": [],
   "source": []
  },
  {
   "cell_type": "markdown",
   "metadata": {
    "id": "uUwUkFGRqd69"
   },
   "source": [
    "### 2.3 Reducir dimensionalidad a n=2 (2 puntos)\n",
    "\n",
    "Considerando el dataset normalizado del punto 1.3, aplique PCA con un número de componentes igual a 2 . Determine la proporción de varianza explicada."
   ]
  },
  {
   "cell_type": "markdown",
   "metadata": {
    "id": "3yaqWwIOqiyN"
   },
   "source": [
    "RESPUESTA:"
   ]
  },
  {
   "cell_type": "code",
   "execution_count": null,
   "metadata": {
    "id": "WhnFvuceSxeD"
   },
   "outputs": [],
   "source": []
  },
  {
   "cell_type": "markdown",
   "metadata": {
    "id": "GaUsFp9v5yqM"
   },
   "source": [
    "## Parte 3: Detección de outliers (10 puntos)"
   ]
  },
  {
   "cell_type": "markdown",
   "metadata": {
    "id": "hu0m5hkql9Ov"
   },
   "source": [
    "**En esta tercera parte se debe evaluar la existencia de outliers. Para ello, debe trabajar con la matriz obtenida en el punto 2.2 (retiene el 90% de la varianza)**."
   ]
  },
  {
   "cell_type": "markdown",
   "metadata": {
    "id": "rEXWDY4DnKoX"
   },
   "source": [
    "### 3.1 Graficar histograma LOF (4 puntos)\n",
    "\n",
    "Utilizando la técnica **Local Outlier Factor (LOF)**, construya un histograma de puntajes LOF. Considere un número de vecinos igual a 8 y use como métrica la distancia euclidiana. Analice los resultados obtenidos."
   ]
  },
  {
   "cell_type": "markdown",
   "metadata": {
    "id": "93Plndk2Jp3p"
   },
   "source": [
    "RESPUESTA:"
   ]
  },
  {
   "cell_type": "code",
   "execution_count": null,
   "metadata": {
    "id": "8VpvPFf1SzYu"
   },
   "outputs": [],
   "source": []
  },
  {
   "cell_type": "markdown",
   "metadata": {
    "id": "pT-24UYmreTn"
   },
   "source": [
    "### 3.2 Identificar datos atípicos (6 puntos)\n",
    "\n",
    "En base al histograma del punto 3.1, y considerando un umbral de corte igual a -1.5, determine los datos atípicos del dataset. ¿Qué proporción de datos corresponden a outliers?\n",
    "\n",
    "Luego, elimine los datos atípicos del conjunto de datos evaluado."
   ]
  },
  {
   "cell_type": "markdown",
   "metadata": {
    "id": "PoHNR8TaJyNh"
   },
   "source": [
    "RESPUESTA:"
   ]
  },
  {
   "cell_type": "code",
   "execution_count": null,
   "metadata": {
    "id": "8DNGVSeGS18w"
   },
   "outputs": [],
   "source": []
  },
  {
   "cell_type": "markdown",
   "metadata": {
    "id": "o2mjswwg51Lb"
   },
   "source": [
    "## Parte 4: Visualización T-SNE y UMAP (20 puntos)"
   ]
  },
  {
   "cell_type": "markdown",
   "metadata": {
    "id": "sglwjyrLvoI_"
   },
   "source": [
    "**En esta sección debe considerar el resultado del punto 3.2. Es decir, el conjunto de datos que no contiene datos atípicos.**"
   ]
  },
  {
   "cell_type": "markdown",
   "metadata": {
    "id": "RhFvbvge54h7"
   },
   "source": [
    "### 4.1 T-SNE (6 puntos)\n",
    "\n",
    "Describa las principales características del modelo T-SNE.\n",
    "\n",
    "Ajuste un modelo de 2 componentes mediante T-SNE. Justifique la elección de hiperparámetros.\n",
    "\n",
    "Construya un gráfico que refleje los resultados del modelo. ¿Reconoce algún patrón?\n"
   ]
  },
  {
   "cell_type": "markdown",
   "metadata": {
    "id": "8IEJBQv6x1Ln"
   },
   "source": [
    "RESPUESTA:"
   ]
  },
  {
   "cell_type": "code",
   "execution_count": null,
   "metadata": {
    "id": "InpPYSKdS49c"
   },
   "outputs": [],
   "source": []
  },
  {
   "cell_type": "markdown",
   "metadata": {
    "id": "1SaOgo2y6BYf"
   },
   "source": [
    "### 4.2 UMAP (6 puntos)\n",
    "\n",
    "Describa las principales características del modelo UMAP.\n",
    "\n",
    "Ajuste un modelo 2 componentes mediante UMAP. Justifique la elección de hiperparámetros.\n",
    "\n",
    "Construya un gráfico que refleje los resultados del modelo. Compare con el gráfico obtenido al trabajar con TSNE."
   ]
  },
  {
   "cell_type": "markdown",
   "metadata": {
    "id": "tAJuvqblKKec"
   },
   "source": [
    "RESPUESTA:"
   ]
  },
  {
   "cell_type": "code",
   "execution_count": null,
   "metadata": {
    "id": "KIAe2oGxS6OU"
   },
   "outputs": [],
   "source": []
  },
  {
   "cell_type": "markdown",
   "metadata": {
    "id": "4RGvnfUWt4aS"
   },
   "source": [
    "### 4.3 TSNE y UMAP con labels (8 puntos)\n",
    "\n",
    "Sobre los gráficos obtenidos en los puntos 4.1 (T-SNE) y 4.2 (UMAP), incorpore la variable \"type\" del dataset original de tal manera que se pueda observar a qué tipo de vino corresponde cada punto del gráfico. ¿Se observa algún patrón?\n",
    "\n",
    "Luego, repita el mismo procedimiento, pero trabajando con la variable \"quality\". Es decir, cada punto en el gráfico debe reflejar la calidad de vino.\n",
    "\n",
    "Analice los resultados y formule una conclusión."
   ]
  },
  {
   "cell_type": "markdown",
   "metadata": {
    "id": "P56FuMxZ8KXx"
   },
   "source": [
    "RESPUESTA:"
   ]
  },
  {
   "cell_type": "code",
   "execution_count": null,
   "metadata": {
    "id": "fk2YW4VxS8B2"
   },
   "outputs": [],
   "source": []
  }
 ],
 "metadata": {
  "colab": {
   "provenance": []
  },
  "kernelspec": {
   "display_name": "3.12.7",
   "language": "python",
   "name": "python3"
  },
  "language_info": {
   "codemirror_mode": {
    "name": "ipython",
    "version": 3
   },
   "file_extension": ".py",
   "mimetype": "text/x-python",
   "name": "python",
   "nbconvert_exporter": "python",
   "pygments_lexer": "ipython3",
   "version": "3.12.7"
  },
  "orig_nbformat": 4
 },
 "nbformat": 4,
 "nbformat_minor": 0
}
