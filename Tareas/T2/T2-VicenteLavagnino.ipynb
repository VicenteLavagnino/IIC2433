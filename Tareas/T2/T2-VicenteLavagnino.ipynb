{
  "cells": [
    {
      "cell_type": "markdown",
      "id": "a4815f77",
      "metadata": {
        "id": "a4815f77"
      },
      "source": [
        "Pontificia Universidad Católica de Chile <br>\n",
        "Departamento de Ciencia de la Computación <br>\n",
        "IIC2433 - Minería de Datos <br>\n",
        "Primer Semestre 2025\n",
        "<br>\n",
        "\n",
        "<h1><center>Tarea 2: Isolation Forest, HAC, DBSCAN y HDBSCAN </center></h1>\n",
        "        Profesor: Marcelo Mendoza<br>\n",
        "        Ayudantes encargados: Itzae Flores, Claudia González y Eduardo Salinas.<br>\n",
        "        Fecha de entrega: 23 de abril del 2025."
      ]
    },
    {
      "cell_type": "code",
      "execution_count": null,
      "id": "gFHiFC46HjxG",
      "metadata": {
        "id": "gFHiFC46HjxG"
      },
      "outputs": [],
      "source": []
    },
    {
      "cell_type": "markdown",
      "id": "76bd8444",
      "metadata": {
        "id": "76bd8444"
      },
      "source": [
        "## Indicaciones\n",
        "\n",
        "Deberás entregar **SOLO** el archivo .ipynb en el buzón respectivo en canvas.\n",
        "\n",
        "**IMPORTANTE**:\n",
        "- Se te dará puntaje tanto por código como por la manera en la que respondas las preguntas planteadas.\n",
        "- El notebook debe tener todas las celdas de código ejecutadas.\n",
        "- El carácter de esta tarea es **INDIVIDUAL**. Cualquier instancia de copia resultará en un 1,1 como nota de curso.\n",
        "\n",
        "---"
      ]
    },
    {
      "cell_type": "markdown",
      "id": "b643f80e",
      "metadata": {
        "id": "b643f80e"
      },
      "source": [
        "## Librerías"
      ]
    },
    {
      "cell_type": "code",
      "execution_count": 1,
      "id": "6cb05ac7",
      "metadata": {
        "id": "6cb05ac7"
      },
      "outputs": [],
      "source": [
        "##Importa acá las librerias que vayas a utilizar\n",
        "## De ser necesario, utiliza el comando !pip install a aquellas librerias o modulos que no se encuentren instalados, como puede ser HDBSCAN.\n",
        "import numpy as np\n",
        "import matplotlib.pyplot as plt\n",
        "import pandas as pd\n",
        "import seaborn as sns\n",
        "\n",
        "from random import random\n",
        "from matplotlib import pyplot as plt\n",
        "\n",
        "from scipy.cluster.hierarchy import dendrogram\n",
        "from sklearn import preprocessing\n",
        "from sklearn.preprocessing import OneHotEncoder, minmax_scale\n",
        "from sklearn.decomposition import PCA\n",
        "from sklearn import preprocessing\n",
        "from sklearn.neighbors import NearestNeighbors\n",
        "from sklearn.model_selection import train_test_split\n",
        "from sklearn.metrics import classification_report, silhouette_score\n",
        "from sklearn.cluster import AgglomerativeClustering\n",
        "from sklearn.cluster import DBSCAN, cluster_optics_dbscan\n",
        "from sklearn.ensemble import IsolationForest\n",
        "# from sklearn.cluster import , HDBSCAN\n",
        "from sklearn.mixture import GaussianMixture\n"
      ]
    },
    {
      "cell_type": "markdown",
      "id": "bf5c9480",
      "metadata": {
        "id": "bf5c9480"
      },
      "source": [
        "El siguiente codigo sirve para importar HDBSCAN en el caso de que les arroje error importar desde sklearn."
      ]
    },
    {
      "cell_type": "code",
      "execution_count": 2,
      "id": "b2acb4f2",
      "metadata": {
        "id": "b2acb4f2"
      },
      "outputs": [],
      "source": [
        "from hdbscan import HDBSCAN"
      ]
    },
    {
      "cell_type": "markdown",
      "id": "42b2e7ca",
      "metadata": {
        "id": "42b2e7ca"
      },
      "source": [
        "# Introducción"
      ]
    },
    {
      "cell_type": "markdown",
      "id": "a7422b03",
      "metadata": {
        "id": "a7422b03"
      },
      "source": [
        "El conjunto de datos corresponde a características extraidas de imagenes de distintos clientes que están buscando pedir un crédito a un banco. Se trabaja con este dataset para predecir si el cliente aceptó o no el último préstamo ofrecido (dado por la columna \"Personal Loan\") por medio del uso de HAC, DBSCAN, HDBSCAN e Isolation Forest.\n",
        "\n",
        "En esta tarea deberás trabajar con el dataset Imbalanced Personal Bank Loan Classification que puedes descargar de [Kaggle] (https://www.kaggle.com/code/farzadnekouei/imbalanced-personal-bank-loan-classification) o Canvas."
      ]
    },
    {
      "cell_type": "markdown",
      "id": "46d379d2",
      "metadata": {
        "id": "46d379d2"
      },
      "source": [
        "# Parte 1: Carga y Preprocesamiento de Datos (9 puntos)"
      ]
    },
    {
      "cell_type": "markdown",
      "id": "ee3e1cc5",
      "metadata": {
        "id": "ee3e1cc5"
      },
      "source": [
        "En esta primera parte se debe cargar el dataset y luego describir el comportamiento de algunas variables de interés. Posteriormente, debe realizar el proceso de normalización de los datos."
      ]
    },
    {
      "cell_type": "markdown",
      "id": "447b6699",
      "metadata": {
        "id": "447b6699"
      },
      "source": [
        "### 1.1 Carga de datos (1 puntos)"
      ]
    },
    {
      "cell_type": "code",
      "execution_count": 11,
      "id": "c1456c62",
      "metadata": {},
      "outputs": [
        {
          "data": {
            "text/html": [
              "<div>\n",
              "<style scoped>\n",
              "    .dataframe tbody tr th:only-of-type {\n",
              "        vertical-align: middle;\n",
              "    }\n",
              "\n",
              "    .dataframe tbody tr th {\n",
              "        vertical-align: top;\n",
              "    }\n",
              "\n",
              "    .dataframe thead th {\n",
              "        text-align: right;\n",
              "    }\n",
              "</style>\n",
              "<table border=\"1\" class=\"dataframe\">\n",
              "  <thead>\n",
              "    <tr style=\"text-align: right;\">\n",
              "      <th></th>\n",
              "      <th>ID</th>\n",
              "      <th>Age</th>\n",
              "      <th>Experience</th>\n",
              "      <th>Income</th>\n",
              "      <th>ZIP Code</th>\n",
              "      <th>Family</th>\n",
              "      <th>CCAvg</th>\n",
              "      <th>Education</th>\n",
              "      <th>Mortgage</th>\n",
              "      <th>Personal Loan</th>\n",
              "      <th>Securities Account</th>\n",
              "      <th>CD Account</th>\n",
              "      <th>Online</th>\n",
              "      <th>CreditCard</th>\n",
              "    </tr>\n",
              "  </thead>\n",
              "  <tbody>\n",
              "    <tr>\n",
              "      <th>0</th>\n",
              "      <td>1</td>\n",
              "      <td>25</td>\n",
              "      <td>1</td>\n",
              "      <td>49</td>\n",
              "      <td>91107</td>\n",
              "      <td>4</td>\n",
              "      <td>1.6</td>\n",
              "      <td>1</td>\n",
              "      <td>0</td>\n",
              "      <td>0</td>\n",
              "      <td>1</td>\n",
              "      <td>0</td>\n",
              "      <td>0</td>\n",
              "      <td>0</td>\n",
              "    </tr>\n",
              "    <tr>\n",
              "      <th>1</th>\n",
              "      <td>2</td>\n",
              "      <td>45</td>\n",
              "      <td>19</td>\n",
              "      <td>34</td>\n",
              "      <td>90089</td>\n",
              "      <td>3</td>\n",
              "      <td>1.5</td>\n",
              "      <td>1</td>\n",
              "      <td>0</td>\n",
              "      <td>0</td>\n",
              "      <td>1</td>\n",
              "      <td>0</td>\n",
              "      <td>0</td>\n",
              "      <td>0</td>\n",
              "    </tr>\n",
              "    <tr>\n",
              "      <th>2</th>\n",
              "      <td>3</td>\n",
              "      <td>39</td>\n",
              "      <td>15</td>\n",
              "      <td>11</td>\n",
              "      <td>94720</td>\n",
              "      <td>1</td>\n",
              "      <td>1.0</td>\n",
              "      <td>1</td>\n",
              "      <td>0</td>\n",
              "      <td>0</td>\n",
              "      <td>0</td>\n",
              "      <td>0</td>\n",
              "      <td>0</td>\n",
              "      <td>0</td>\n",
              "    </tr>\n",
              "    <tr>\n",
              "      <th>3</th>\n",
              "      <td>4</td>\n",
              "      <td>35</td>\n",
              "      <td>9</td>\n",
              "      <td>100</td>\n",
              "      <td>94112</td>\n",
              "      <td>1</td>\n",
              "      <td>2.7</td>\n",
              "      <td>2</td>\n",
              "      <td>0</td>\n",
              "      <td>0</td>\n",
              "      <td>0</td>\n",
              "      <td>0</td>\n",
              "      <td>0</td>\n",
              "      <td>0</td>\n",
              "    </tr>\n",
              "    <tr>\n",
              "      <th>4</th>\n",
              "      <td>5</td>\n",
              "      <td>35</td>\n",
              "      <td>8</td>\n",
              "      <td>45</td>\n",
              "      <td>91330</td>\n",
              "      <td>4</td>\n",
              "      <td>1.0</td>\n",
              "      <td>2</td>\n",
              "      <td>0</td>\n",
              "      <td>0</td>\n",
              "      <td>0</td>\n",
              "      <td>0</td>\n",
              "      <td>0</td>\n",
              "      <td>1</td>\n",
              "    </tr>\n",
              "  </tbody>\n",
              "</table>\n",
              "</div>"
            ],
            "text/plain": [
              "   ID  Age  Experience  Income  ZIP Code  Family  CCAvg  Education  Mortgage  \\\n",
              "0   1   25           1      49     91107       4    1.6          1         0   \n",
              "1   2   45          19      34     90089       3    1.5          1         0   \n",
              "2   3   39          15      11     94720       1    1.0          1         0   \n",
              "3   4   35           9     100     94112       1    2.7          2         0   \n",
              "4   5   35           8      45     91330       4    1.0          2         0   \n",
              "\n",
              "   Personal Loan  Securities Account  CD Account  Online  CreditCard  \n",
              "0              0                   1           0       0           0  \n",
              "1              0                   1           0       0           0  \n",
              "2              0                   0           0       0           0  \n",
              "3              0                   0           0       0           0  \n",
              "4              0                   0           0       0           1  "
            ]
          },
          "execution_count": 11,
          "metadata": {},
          "output_type": "execute_result"
        }
      ],
      "source": [
        "df = pd.read_csv('data.csv')\n",
        "df.head(5)"
      ]
    },
    {
      "cell_type": "markdown",
      "id": "f60cbb26",
      "metadata": {
        "id": "f60cbb26"
      },
      "source": [
        "### 1.2 Descripcion del Dataset (5 puntos)"
      ]
    },
    {
      "cell_type": "markdown",
      "id": "d0e69aea",
      "metadata": {
        "id": "d0e69aea"
      },
      "source": [
        "#### 1.2.1 Describa brevemente cuantas columnas tiene el dataset y en que consisten las columna del dataset entregado (1 puntos)"
      ]
    },
    {
      "cell_type": "code",
      "execution_count": 17,
      "id": "ad8fe2d5",
      "metadata": {},
      "outputs": [
        {
          "name": "stdout",
          "output_type": "stream",
          "text": [
            "ID: int64\n",
            "count    5000.000000\n",
            "mean     2500.500000\n",
            "std      1443.520003\n",
            "min         1.000000\n",
            "25%      1250.750000\n",
            "50%      2500.500000\n",
            "75%      3750.250000\n",
            "max      5000.000000\n",
            "Name: ID, dtype: float64\n",
            "\n",
            "\n",
            "Age: int64\n",
            "count    5000.000000\n",
            "mean       45.338400\n",
            "std        11.463166\n",
            "min        23.000000\n",
            "25%        35.000000\n",
            "50%        45.000000\n",
            "75%        55.000000\n",
            "max        67.000000\n",
            "Name: Age, dtype: float64\n",
            "\n",
            "\n",
            "Experience: int64\n",
            "count    5000.000000\n",
            "mean       20.104600\n",
            "std        11.467954\n",
            "min        -3.000000\n",
            "25%        10.000000\n",
            "50%        20.000000\n",
            "75%        30.000000\n",
            "max        43.000000\n",
            "Name: Experience, dtype: float64\n",
            "\n",
            "\n",
            "Income: int64\n",
            "count    5000.000000\n",
            "mean       73.774200\n",
            "std        46.033729\n",
            "min         8.000000\n",
            "25%        39.000000\n",
            "50%        64.000000\n",
            "75%        98.000000\n",
            "max       224.000000\n",
            "Name: Income, dtype: float64\n",
            "\n",
            "\n",
            "ZIP Code: int64\n",
            "count     5000.000000\n",
            "mean     93152.503000\n",
            "std       2121.852197\n",
            "min       9307.000000\n",
            "25%      91911.000000\n",
            "50%      93437.000000\n",
            "75%      94608.000000\n",
            "max      96651.000000\n",
            "Name: ZIP Code, dtype: float64\n",
            "\n",
            "\n",
            "Family: int64\n",
            "count    5000.000000\n",
            "mean        2.396400\n",
            "std         1.147663\n",
            "min         1.000000\n",
            "25%         1.000000\n",
            "50%         2.000000\n",
            "75%         3.000000\n",
            "max         4.000000\n",
            "Name: Family, dtype: float64\n",
            "\n",
            "\n",
            "CCAvg: float64\n",
            "count    5000.000000\n",
            "mean        1.937913\n",
            "std         1.747666\n",
            "min         0.000000\n",
            "25%         0.700000\n",
            "50%         1.500000\n",
            "75%         2.500000\n",
            "max        10.000000\n",
            "Name: CCAvg, dtype: float64\n",
            "\n",
            "\n",
            "Education: int64\n",
            "count    5000.000000\n",
            "mean        1.881000\n",
            "std         0.839869\n",
            "min         1.000000\n",
            "25%         1.000000\n",
            "50%         2.000000\n",
            "75%         3.000000\n",
            "max         3.000000\n",
            "Name: Education, dtype: float64\n",
            "\n",
            "\n",
            "Mortgage: int64\n",
            "count    5000.000000\n",
            "mean       56.498800\n",
            "std       101.713802\n",
            "min         0.000000\n",
            "25%         0.000000\n",
            "50%         0.000000\n",
            "75%       101.000000\n",
            "max       635.000000\n",
            "Name: Mortgage, dtype: float64\n",
            "\n",
            "\n",
            "Personal Loan: int64\n",
            "count    5000.000000\n",
            "mean        0.096000\n",
            "std         0.294621\n",
            "min         0.000000\n",
            "25%         0.000000\n",
            "50%         0.000000\n",
            "75%         0.000000\n",
            "max         1.000000\n",
            "Name: Personal Loan, dtype: float64\n",
            "\n",
            "\n",
            "Securities Account: int64\n",
            "count    5000.000000\n",
            "mean        0.104400\n",
            "std         0.305809\n",
            "min         0.000000\n",
            "25%         0.000000\n",
            "50%         0.000000\n",
            "75%         0.000000\n",
            "max         1.000000\n",
            "Name: Securities Account, dtype: float64\n",
            "\n",
            "\n",
            "CD Account: int64\n",
            "count    5000.00000\n",
            "mean        0.06040\n",
            "std         0.23825\n",
            "min         0.00000\n",
            "25%         0.00000\n",
            "50%         0.00000\n",
            "75%         0.00000\n",
            "max         1.00000\n",
            "Name: CD Account, dtype: float64\n",
            "\n",
            "\n",
            "Online: int64\n",
            "count    5000.000000\n",
            "mean        0.596800\n",
            "std         0.490589\n",
            "min         0.000000\n",
            "25%         0.000000\n",
            "50%         1.000000\n",
            "75%         1.000000\n",
            "max         1.000000\n",
            "Name: Online, dtype: float64\n",
            "\n",
            "\n",
            "CreditCard: int64\n",
            "count    5000.000000\n",
            "mean        0.294000\n",
            "std         0.455637\n",
            "min         0.000000\n",
            "25%         0.000000\n",
            "50%         0.000000\n",
            "75%         1.000000\n",
            "max         1.000000\n",
            "Name: CreditCard, dtype: float64\n",
            "\n",
            "\n"
          ]
        }
      ],
      "source": [
        "# Descripción de las columnas:\n",
        "\n",
        "for column in df.columns:\n",
        "    print(f\"{column}: {df[column].dtype}\")\n",
        "    print(df[column].describe())\n",
        "    print(\"\\n\")\n"
      ]
    },
    {
      "cell_type": "markdown",
      "id": "e6c43972",
      "metadata": {
        "id": "e6c43972"
      },
      "source": [
        "**Respuesta:**"
      ]
    },
    {
      "cell_type": "markdown",
      "id": "0cea5024",
      "metadata": {
        "id": "0cea5024"
      },
      "source": [
        "#### 1.2.2 ¿Es posible en este dataset eliminar columnas sin afectar de manera significativa los datos? ¿Por qué? (2 puntos)"
      ]
    },
    {
      "cell_type": "markdown",
      "id": "bb7bf409",
      "metadata": {
        "id": "bb7bf409"
      },
      "source": [
        "**Respuesta:**\n",
        "\n",
        "En primer lugar podemos asumir que la columna ID la podemos eliminar ya no debería afectar al análisis de dataset debido a que es un dato de identificación que no aporta información adicional.\n",
        "\n",
        "Luego, dependiendo de los objetivos del análisis podemos determinar que columnas podemos eliminar según la varianza y cantidad de datos que existen, sin embargo por ahora no eliminaremos ninguna otra variable."
      ]
    },
    {
      "cell_type": "markdown",
      "id": "ab3a23e9",
      "metadata": {
        "id": "ab3a23e9"
      },
      "source": [
        "#### 1.2.3 ¿Por qué crees que es relevante trabajar estos datos? Averigua 3 posibles usos en que trabajar los datos de esta forma podría ser útil para problemas que resuelven las organizaciones (2 puntos)"
      ]
    },
    {
      "cell_type": "markdown",
      "id": "9b7db3cd",
      "metadata": {},
      "source": [
        "**Respuesta:**\n",
        "\n",
        "Estos datos son importantes de trabajar ya que permiten a las instituciones bancarias tomar decisiones con mayor información respecto a la segmentación de clientes para estrategias personalizadas, identificación de anomalías o comportamientos atípicos y predicción de aceptación de préstamos.\n",
        "\n",
        "Entrando más en detalle con cada punto lo podemos ver como:\n",
        "\n",
        "1. Segmentación de clientes para estrategias personalizadas:\n",
        "A través de técnicas de agrupamiento como HAC o DBSCAN, el banco puede clasificar a sus clientes en distintos segmentos según variables como edad, ingreso, nivel de educación, uso de productos financieros, entre otros. Esto permite ofrecer productos adaptados a cada grupo, optimizando las campañas comerciales y mejorando la tasa de aceptación de los préstamos.\n",
        "\n",
        "2.\tIdentificación de anomalías o comportamientos atípicos:\n",
        "Utilizando algoritmos como HDBSCAN o Isolation Forest, se pueden detectar clientes que presentan patrones significativamente diferentes al resto, lo cual puede ser útil para alertar sobre posibles fraudes, errores en los datos o identificar perfiles poco comunes que requieran análisis más detallado.\n",
        "\n",
        "3.\tPredicción de aceptación de préstamos:\n",
        "Analizando los patrones históricos, es posible entrenar modelos que anticipen la probabilidad de que un nuevo cliente acepte un préstamo o no pueda pagarlo, esto ayuda a focalizar campañas y acelerar procesos de estimación de riesgo."
      ]
    },
    {
      "cell_type": "markdown",
      "id": "843071c3",
      "metadata": {
        "id": "843071c3"
      },
      "source": [
        "**Respuesta:**"
      ]
    },
    {
      "cell_type": "markdown",
      "id": "b29f3f87",
      "metadata": {
        "id": "b29f3f87"
      },
      "source": [
        "### 1.3 Determinación de valores nulos (1 punto)"
      ]
    },
    {
      "cell_type": "markdown",
      "id": "c8aa52d2",
      "metadata": {
        "id": "c8aa52d2"
      },
      "source": [
        "Determina si existen datos y/o valores nulos presentes en el dataset. En caso de que existan, realiza el tratamiento pertinente."
      ]
    },
    {
      "cell_type": "code",
      "execution_count": 19,
      "metadata": {},
      "outputs": [
        {
          "name": "stdout",
          "output_type": "stream",
          "text": [
            "ID                    0\n",
            "Age                   0\n",
            "Experience            0\n",
            "Income                0\n",
            "ZIP Code              0\n",
            "Family                0\n",
            "CCAvg                 0\n",
            "Education             0\n",
            "Mortgage              0\n",
            "Personal Loan         0\n",
            "Securities Account    0\n",
            "CD Account            0\n",
            "Online                0\n",
            "CreditCard            0\n",
            "dtype: int64\n"
          ]
        }
      ],
      "source": [
        "# Determinar datos y/o valores nulos\n",
        "\n",
        "print(df.isnull().sum())\n",
        "\n",
        "# Eliminar columnas innecesarias\n"
      ]
    },
    {
      "cell_type": "markdown",
      "id": "b1e9cded",
      "metadata": {
        "id": "b1e9cded"
      },
      "source": [
        "**Respuesta:**"
      ]
    },
    {
      "cell_type": "markdown",
      "id": "4c56b96e",
      "metadata": {
        "id": "4c56b96e"
      },
      "source": [
        "### 1.4 Manejo del Dataset (2 puntos)\n",
        "\n",
        "Normaliza los valores de las columnas del dataset. ¿Por qué esto es importante para el análisis?"
      ]
    },
    {
      "cell_type": "markdown",
      "id": "34031921",
      "metadata": {
        "id": "34031921"
      },
      "source": [
        "**Respuesta**"
      ]
    },
    {
      "cell_type": "markdown",
      "id": "Ue7y2ARTc7aw",
      "metadata": {
        "id": "Ue7y2ARTc7aw"
      },
      "source": [
        "# Parte 2: Isolation Forest (15 puntos)"
      ]
    },
    {
      "cell_type": "markdown",
      "id": "M2zPfidlc-vb",
      "metadata": {
        "id": "M2zPfidlc-vb"
      },
      "source": [
        "### 2.1 Reduzca la cantidad de componente reteniendo el 95% de la varianza (1 punto)"
      ]
    },
    {
      "cell_type": "code",
      "execution_count": null,
      "id": "Gf6I5n-R_wQe",
      "metadata": {
        "id": "Gf6I5n-R_wQe"
      },
      "outputs": [],
      "source": []
    },
    {
      "cell_type": "markdown",
      "id": "15te1baCdFJ3",
      "metadata": {
        "id": "15te1baCdFJ3"
      },
      "source": [
        "### 2.2 Utilizando 100 iTrees, cree una instancia de Isolation Forest. ¿Cuántos outliers detecta Isolation Forest y a qué clases verdaderas pertenecen? (3 puntos)"
      ]
    },
    {
      "cell_type": "code",
      "execution_count": null,
      "id": "p6xd6nNQ_xJB",
      "metadata": {
        "id": "p6xd6nNQ_xJB"
      },
      "outputs": [],
      "source": []
    },
    {
      "cell_type": "markdown",
      "id": "KX8DcT1MrKrF",
      "metadata": {
        "id": "KX8DcT1MrKrF"
      },
      "source": [
        "### 2.3 ¿Como cambia el numero de de outliers detectados al variar el parametro ```contamination```? Utilize los valores ```[0.01, 0.05, 0.1, 0.2]``` (3 puntos)\n"
      ]
    },
    {
      "cell_type": "code",
      "execution_count": null,
      "id": "9cxnhJGq_x57",
      "metadata": {
        "id": "9cxnhJGq_x57"
      },
      "outputs": [],
      "source": []
    },
    {
      "cell_type": "markdown",
      "id": "7tDc5DBurfAC",
      "metadata": {
        "id": "7tDc5DBurfAC"
      },
      "source": [
        "### 2.4 Grafique los \"anomaly scores\" e indique si se ve un umbral claro (2 puntos)"
      ]
    },
    {
      "cell_type": "code",
      "execution_count": null,
      "id": "6OJmxPQA_yWs",
      "metadata": {
        "id": "6OJmxPQA_yWs"
      },
      "outputs": [],
      "source": []
    },
    {
      "cell_type": "markdown",
      "id": "P1br2mrXrl24",
      "metadata": {
        "id": "P1br2mrXrl24"
      },
      "source": [
        "### 2.5 Que tan estable es la detección de outliers si cambiamos la cantidad de arboles (```n_estimators```) (4 puntos)"
      ]
    },
    {
      "cell_type": "code",
      "execution_count": null,
      "id": "zQO7OrG5_yvb",
      "metadata": {
        "id": "zQO7OrG5_yvb"
      },
      "outputs": [],
      "source": []
    },
    {
      "cell_type": "markdown",
      "id": "cuIMGNIGr0en",
      "metadata": {
        "id": "cuIMGNIGr0en"
      },
      "source": [
        "### 2.6 Grafique los outliers detectados en las primeras dos componentes principales. (Utilize parametro ```alpha=0.6```) (2 puntos)"
      ]
    },
    {
      "cell_type": "code",
      "execution_count": null,
      "id": "3pEoD2vS_zM0",
      "metadata": {
        "id": "3pEoD2vS_zM0"
      },
      "outputs": [],
      "source": []
    },
    {
      "cell_type": "markdown",
      "id": "SP6S4bdSryx4",
      "metadata": {
        "id": "SP6S4bdSryx4"
      },
      "source": []
    },
    {
      "cell_type": "markdown",
      "id": "9ba5fe32",
      "metadata": {
        "id": "9ba5fe32"
      },
      "source": [
        "# Parte 3: HAC (5 puntos)"
      ]
    },
    {
      "cell_type": "code",
      "execution_count": null,
      "id": "2fsAG5_bJFZk",
      "metadata": {
        "id": "2fsAG5_bJFZk"
      },
      "outputs": [],
      "source": []
    },
    {
      "cell_type": "markdown",
      "id": "a88e17c3",
      "metadata": {
        "id": "a88e17c3"
      },
      "source": [
        "### 3.1 Reliza un dendograma sin clusters y con distancia threshold igual a 0 para visualizar los datos (1 punto)"
      ]
    },
    {
      "cell_type": "markdown",
      "id": "0dc5715a",
      "metadata": {
        "id": "0dc5715a"
      },
      "source": [
        "### 3.2 Realiza los Clustering de Agrupación Jerarquica (HAC) para cada distancia de clustering aglomerativo (linkage), prueba utilizando número entre 2 y 10. Calcula el Silhouette para ver cual funcionó mejor y explica el por qué de los resultados. (1.5 puntos)\n"
      ]
    },
    {
      "cell_type": "markdown",
      "id": "da7f4c75",
      "metadata": {
        "id": "da7f4c75"
      },
      "source": [
        "### 3.3 Ahora, realiza los Clustering de Agrupación Jerarquica (HAC) para cada tipo de linkage. Calcula el Silhouette para ver cual funcionó mejor y explica el por qué de los resultados, mencionando de que manera funciona cada linkage. Usa 20 clusters (1.5 puntos)"
      ]
    },
    {
      "cell_type": "markdown",
      "id": "31f43ba2",
      "metadata": {
        "id": "31f43ba2"
      },
      "source": [
        "### 3.4 Grafica los clusters utilizando un PCA de 2 dimensiones de los datos. Usa 20 clusters y el linkage con mejor silhouette score (1 punto)\n",
        "\n",
        "\n",
        "\n",
        "\n"
      ]
    },
    {
      "cell_type": "markdown",
      "id": "5d8826e0",
      "metadata": {
        "id": "5d8826e0"
      },
      "source": [
        "Con el análisis realizado, ¿Cuál es la importancia del criterio de vinculación al momento de agrupar los datos? Pruebe ahora utilizando solamente dos clusters y compare los graficos. Debe utilizar al menos un tipo de linkage para hacer la comparación."
      ]
    },
    {
      "cell_type": "markdown",
      "id": "4571b0f0",
      "metadata": {
        "id": "4571b0f0"
      },
      "source": [
        "# Parte 4: DBSCAN y HDBSCAN (15 puntos)"
      ]
    },
    {
      "cell_type": "markdown",
      "id": "ff77645e",
      "metadata": {
        "id": "ff77645e"
      },
      "source": [
        "### 4.1.- DBSCAN\n",
        "\n",
        "Utilizando DBSCAN, itera sobre valores de eps entre 0.25 y 2, con un salto de 0.25 por iteracion. Ademas, itera sobre el numero minimo de muestras, probando con 1, 2, 3 y 4. (3 puntos)"
      ]
    },
    {
      "cell_type": "markdown",
      "id": "0e56e1cb",
      "metadata": {
        "id": "0e56e1cb"
      },
      "source": [
        "**RESPUESTA:**"
      ]
    },
    {
      "cell_type": "markdown",
      "id": "df5c7121",
      "metadata": {
        "id": "df5c7121"
      },
      "source": [
        "#### 4.1.2 Con la información de los parametros anterior, calcula cual es el número de clusters óptimo para el modelo DBSCAN. (1.5 puntos)"
      ]
    },
    {
      "cell_type": "markdown",
      "id": "2c81dda3",
      "metadata": {
        "id": "2c81dda3"
      },
      "source": [
        "**RESPUESTA:**"
      ]
    },
    {
      "cell_type": "markdown",
      "id": "8188c92b",
      "metadata": {
        "id": "8188c92b"
      },
      "source": [
        "#### 4.1.3 Determine tambien el valor optimo del parametro `eps` y `min_samples` (0.5 puntos)"
      ]
    },
    {
      "cell_type": "markdown",
      "id": "6603d673",
      "metadata": {
        "id": "6603d673"
      },
      "source": [
        "**RESPUESTA:**"
      ]
    },
    {
      "cell_type": "markdown",
      "id": "76b32057",
      "metadata": {
        "id": "76b32057"
      },
      "source": [
        "#### 4.1.4 Obtenga el numero de clusters utilizando los parametros optimos encontrados. Explique por qué podría haber encontrado ese valor, el cual se puede o no ajustar al número de clases en el dataset. (1 puntos)"
      ]
    },
    {
      "cell_type": "markdown",
      "id": "964a38b2",
      "metadata": {
        "id": "964a38b2"
      },
      "source": [
        "**RESPUESTA:**"
      ]
    },
    {
      "cell_type": "markdown",
      "id": "da53b25b",
      "metadata": {
        "id": "da53b25b"
      },
      "source": [
        "Se espera un analisis de ajuste de datos a clusters contra las clases. Puntaje por analisis y justificacion."
      ]
    },
    {
      "cell_type": "markdown",
      "id": "8b01a31b",
      "metadata": {
        "id": "8b01a31b"
      },
      "source": [
        "### 4.2.- HDBSCAN\n",
        "\n",
        "Utilizando HDSCAN, cree un modelo con el `cluster_selection_epsilon` igual al caso de DBSCAN y determine el número de clusters. Itere sobre el min_cluster_size para encontrar el mejor silhoutte score. Compare el resultado con DBSCAN.  (3 puntos)"
      ]
    },
    {
      "cell_type": "markdown",
      "id": "20d9a60d",
      "metadata": {
        "id": "20d9a60d"
      },
      "source": [
        "**RESPUESTA:**"
      ]
    },
    {
      "cell_type": "markdown",
      "id": "086e1163",
      "metadata": {
        "id": "086e1163"
      },
      "source": [
        "#### 4.2.2 Grafique los clusters utilizando PCA de 2 dimensiones. (1 punto)"
      ]
    },
    {
      "cell_type": "markdown",
      "id": "15bb1a56",
      "metadata": {
        "id": "15bb1a56"
      },
      "source": [
        "**RESPUESTA:**"
      ]
    },
    {
      "cell_type": "markdown",
      "id": "27c50ca0",
      "metadata": {
        "id": "27c50ca0"
      },
      "source": [
        "¿Que representa cada cluster?"
      ]
    },
    {
      "cell_type": "markdown",
      "id": "f67d53bf",
      "metadata": {
        "id": "f67d53bf"
      },
      "source": [
        "**RESPUESTA:**"
      ]
    },
    {
      "cell_type": "code",
      "execution_count": null,
      "id": "uPy0svBA7p7w",
      "metadata": {
        "id": "uPy0svBA7p7w"
      },
      "outputs": [],
      "source": []
    },
    {
      "cell_type": "markdown",
      "id": "3455eb3f",
      "metadata": {
        "id": "3455eb3f"
      },
      "source": [
        "### 4.4 Preguntas teoricas sobre HAC, DBSCAN y HDBSCAN (5 puntos)"
      ]
    },
    {
      "cell_type": "markdown",
      "id": "2e5d2e0c",
      "metadata": {
        "id": "2e5d2e0c"
      },
      "source": [
        "#### 4.4.1 En tus palabras, ¿Cómo funciona el Agglomerative Clustering? Además, menciona al menos 2 usos para HAC."
      ]
    },
    {
      "cell_type": "markdown",
      "id": "bc49f141",
      "metadata": {
        "id": "bc49f141"
      },
      "source": [
        "**RESPUESTA:**"
      ]
    },
    {
      "cell_type": "markdown",
      "id": "4b86cbf5",
      "metadata": {
        "id": "4b86cbf5"
      },
      "source": [
        "#### 4.4.2 Explique que representa un dendograma, mencionando cómo las ramas principales podrían significar las clases del datset."
      ]
    },
    {
      "cell_type": "markdown",
      "id": "d0a99d8e",
      "metadata": {
        "id": "d0a99d8e"
      },
      "source": [
        "**RESPUESTA:**"
      ]
    },
    {
      "cell_type": "markdown",
      "id": "c67219d4",
      "metadata": {
        "id": "c67219d4"
      },
      "source": [
        "#### 4.4.3 En el contexto del modelo DBSCAN, ¿Que es un core sample? ¿Que podría representar un core sample en términos de un dato en el dataset? Apóyese en la clases y sus características."
      ]
    },
    {
      "cell_type": "markdown",
      "id": "722a4711",
      "metadata": {
        "id": "722a4711"
      },
      "source": [
        "**RESPUESTA:**"
      ]
    },
    {
      "cell_type": "markdown",
      "id": "c0683a7b",
      "metadata": {
        "id": "c0683a7b"
      },
      "source": [
        "#### 4.4.4 En el modelo de DBSCAN se iteran sobre distintos parametros; eps y min_samples. ¿Qué representan estos parametros?"
      ]
    },
    {
      "cell_type": "markdown",
      "id": "3a0973ad",
      "metadata": {
        "id": "3a0973ad"
      },
      "source": [
        "**RESPUESTA:**"
      ]
    },
    {
      "cell_type": "markdown",
      "id": "e279d3cc",
      "metadata": {
        "id": "e279d3cc"
      },
      "source": [
        "#### 4.4.5 ¿Cuál es la diferencia entre DBSCAN y HDBSCAN? ¿Qué beneficios existen de usar un modelo sobre el otro?"
      ]
    },
    {
      "cell_type": "markdown",
      "id": "96815fa4",
      "metadata": {
        "id": "96815fa4"
      },
      "source": [
        "**RESPUESTA:**"
      ]
    },
    {
      "cell_type": "markdown",
      "id": "831edeb0",
      "metadata": {
        "id": "831edeb0"
      },
      "source": [
        "**RESPUESTA:**"
      ]
    },
    {
      "cell_type": "code",
      "execution_count": null,
      "id": "uRWez4beJlli",
      "metadata": {
        "id": "uRWez4beJlli"
      },
      "outputs": [],
      "source": []
    },
    {
      "cell_type": "markdown",
      "id": "3c3df732",
      "metadata": {
        "id": "3c3df732"
      },
      "source": [
        "**Respuesta**"
      ]
    },
    {
      "cell_type": "markdown",
      "id": "e75673d1",
      "metadata": {
        "id": "e75673d1"
      },
      "source": [
        "**Para esta sección, utilize el modelo con mejor silhouette score obtenido.**"
      ]
    },
    {
      "cell_type": "markdown",
      "id": "e037db95",
      "metadata": {
        "id": "e037db95"
      },
      "source": [
        "# Parte 5: Comparación y eficiencia (3 puntos)"
      ]
    },
    {
      "cell_type": "markdown",
      "id": "c46f6a3d",
      "metadata": {
        "id": "c46f6a3d"
      },
      "source": [
        "#### 5.1 ¿Cuál de los métodos de clustering resultó ser el más eficiente entre HAC, DBSCAN, HDBSCAN o Isolation Forest? Da una explicación de por qué se puede deber el resultado."
      ]
    },
    {
      "cell_type": "markdown",
      "id": "6c83bb6d",
      "metadata": {
        "id": "6c83bb6d"
      },
      "source": [
        "**Respuesta**"
      ]
    }
  ],
  "metadata": {
    "colab": {
      "provenance": []
    },
    "kernelspec": {
      "display_name": "venv_umap",
      "language": "python",
      "name": "python3"
    },
    "language_info": {
      "codemirror_mode": {
        "name": "ipython",
        "version": 3
      },
      "file_extension": ".py",
      "mimetype": "text/x-python",
      "name": "python",
      "nbconvert_exporter": "python",
      "pygments_lexer": "ipython3",
      "version": "3.11.10"
    }
  },
  "nbformat": 4,
  "nbformat_minor": 5
}
