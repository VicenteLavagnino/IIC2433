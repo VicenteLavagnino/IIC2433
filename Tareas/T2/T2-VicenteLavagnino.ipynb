{
  "cells": [
    {
      "cell_type": "markdown",
      "id": "a4815f77",
      "metadata": {
        "id": "a4815f77"
      },
      "source": [
        "Pontificia Universidad Católica de Chile <br>\n",
        "Departamento de Ciencia de la Computación <br>\n",
        "IIC2433 - Minería de Datos <br>\n",
        "Primer Semestre 2025\n",
        "<br>\n",
        "\n",
        "<h1><center>Tarea 2: Isolation Forest, HAC, DBSCAN y HDBSCAN </center></h1>\n",
        "        Profesor: Marcelo Mendoza<br>\n",
        "        Ayudantes encargados: Itzae Flores, Claudia González y Eduardo Salinas.<br>\n",
        "        Fecha de entrega: 23 de abril del 2025."
      ]
    },
    {
      "cell_type": "markdown",
      "id": "76bd8444",
      "metadata": {
        "id": "76bd8444"
      },
      "source": [
        "## Indicaciones\n",
        "\n",
        "Deberás entregar **SOLO** el archivo .ipynb en el buzón respectivo en canvas.\n",
        "\n",
        "**IMPORTANTE**:\n",
        "- Se te dará puntaje tanto por código como por la manera en la que respondas las preguntas planteadas.\n",
        "- El notebook debe tener todas las celdas de código ejecutadas.\n",
        "- Para las preguntas de desarrollo se espera un análisis profundo, no una respuesta superficial.\n",
        "- El carácter de esta tarea es **INDIVIDUAL**. Cualquier instancia de copia resultará en un 1,1 como nota de curso.\n",
        "\n",
        "---"
      ]
    },
    {
      "cell_type": "markdown",
      "id": "b643f80e",
      "metadata": {
        "id": "b643f80e"
      },
      "source": [
        "## Librerías"
      ]
    },
    {
      "cell_type": "code",
      "execution_count": 5,
      "id": "6cb05ac7",
      "metadata": {
        "id": "6cb05ac7"
      },
      "outputs": [],
      "source": [
        "##Importa acá las librerias que vayas a utilizar\n",
        "## De ser necesario, utiliza el comando !pip install a aquellas librerias o modulos que no se encuentren instalados, como puede ser HDBSCAN.\n",
        "import numpy as np\n",
        "import matplotlib.pyplot as plt\n",
        "import pandas as pd\n",
        "import seaborn as sns\n",
        "\n",
        "from random import random\n",
        "from matplotlib import pyplot as plt\n",
        "\n",
        "from scipy.cluster.hierarchy import dendrogram\n",
        "from sklearn import preprocessing\n",
        "from sklearn.preprocessing import OneHotEncoder, minmax_scale\n",
        "from sklearn.decomposition import PCA\n",
        "from sklearn import preprocessing\n",
        "from sklearn.neighbors import NearestNeighbors\n",
        "from sklearn.model_selection import train_test_split\n",
        "from sklearn.metrics import classification_report, silhouette_score\n",
        "from sklearn.cluster import AgglomerativeClustering\n",
        "from sklearn.cluster import DBSCAN, cluster_optics_dbscan\n",
        "from sklearn.ensemble import IsolationForest\n",
        "# from sklearn.cluster import , HDBSCAN\n",
        "from sklearn.mixture import GaussianMixture\n",
        "\n",
        "\n"
      ]
    },
    {
      "cell_type": "markdown",
      "id": "bf5c9480",
      "metadata": {
        "id": "bf5c9480"
      },
      "source": [
        "El siguiente codigo sirve para importar HDBSCAN en el caso de que les arroje error importar desde sklearn."
      ]
    },
    {
      "cell_type": "code",
      "execution_count": 6,
      "id": "b2acb4f2",
      "metadata": {
        "id": "b2acb4f2"
      },
      "outputs": [],
      "source": [
        "from hdbscan import HDBSCAN"
      ]
    },
    {
      "cell_type": "markdown",
      "id": "42b2e7ca",
      "metadata": {
        "id": "42b2e7ca"
      },
      "source": [
        "# Introducción"
      ]
    },
    {
      "cell_type": "markdown",
      "id": "a7422b03",
      "metadata": {
        "id": "a7422b03"
      },
      "source": [
        "El conjunto de datos corresponde a características extraidas de imagenes de distintos clientes que están buscando pedir un crédito a un banco. Se trabaja con este dataset para predecir si el cliente aceptó o no el último préstamo ofrecido (dado por la columna \"Personal Loan\") por medio del uso de HAC, DBSCAN, HDBSCAN e Isolation Forest.\n",
        "\n",
        "En esta tarea deberás trabajar con el dataset Imbalanced Personal Bank Loan Classification que puedes descargar de [Kaggle] (https://www.kaggle.com/code/farzadnekouei/imbalanced-personal-bank-loan-classification) o Canvas."
      ]
    },
    {
      "cell_type": "markdown",
      "id": "46d379d2",
      "metadata": {
        "id": "46d379d2"
      },
      "source": [
        "# Parte 1: Carga y Preprocesamiento de Datos (10 puntos)"
      ]
    },
    {
      "cell_type": "markdown",
      "id": "ee3e1cc5",
      "metadata": {
        "id": "ee3e1cc5"
      },
      "source": [
        "En esta primera parte se debe cargar el dataset y luego describir el comportamiento de algunas variables de interés. Posteriormente, debe realizar el proceso de normalización de los datos."
      ]
    },
    {
      "cell_type": "markdown",
      "id": "447b6699",
      "metadata": {
        "id": "447b6699"
      },
      "source": [
        "### 1.1 Carga de datos (1 puntos)"
      ]
    },
    {
      "cell_type": "markdown",
      "id": "f60cbb26",
      "metadata": {
        "id": "f60cbb26"
      },
      "source": [
        "### 1.2 Descripcion del Dataset (5 puntos)"
      ]
    },
    {
      "cell_type": "markdown",
      "id": "d0e69aea",
      "metadata": {
        "id": "d0e69aea"
      },
      "source": [
        "#### 1.2.1 Describa brevemente cuantas columnas tiene el dataset y en que consisten las columna del dataset entregado (1 puntos)"
      ]
    },
    {
      "cell_type": "markdown",
      "id": "e6c43972",
      "metadata": {
        "id": "e6c43972"
      },
      "source": [
        "**Respuesta:** "
      ]
    },
    {
      "cell_type": "markdown",
      "id": "0cea5024",
      "metadata": {
        "id": "0cea5024"
      },
      "source": [
        "1.2.2 ¿Es posible en este dataset eliminar columnas sin afectar de manera significativa los datos? ¿Por qué? (2 puntos)"
      ]
    },
    {
      "cell_type": "markdown",
      "id": "bb7bf409",
      "metadata": {
        "id": "bb7bf409"
      },
      "source": [
        "**Respuesta:** "
      ]
    },
    {
      "cell_type": "markdown",
      "id": "ab3a23e9",
      "metadata": {
        "id": "ab3a23e9"
      },
      "source": [
        "#### 1.2.3 ¿Por qué crees que es relevante trabajar estos datos? Averigua 3 posibles usos en que trabajar los datos de esta forma podría ser útil para problemas que resuelven las organizaciones (2 puntos)"
      ]
    },
    {
      "cell_type": "markdown",
      "id": "b29f3f87",
      "metadata": {
        "id": "b29f3f87"
      },
      "source": [
        "### 1.3 Determinación de valores nulos (1 punto)"
      ]
    },
    {
      "cell_type": "markdown",
      "id": "c8aa52d2",
      "metadata": {
        "id": "c8aa52d2"
      },
      "source": [
        "Determina si existen datos y/o valores nulos presentes en el dataset. En caso de que existan, realiza el tratamiento pertinente."
      ]
    },
    {
      "cell_type": "markdown",
      "id": "b1e9cded",
      "metadata": {
        "id": "b1e9cded"
      },
      "source": [
        "**Respuesta:** "
      ]
    },
    {
      "cell_type": "markdown",
      "id": "4c56b96e",
      "metadata": {
        "id": "4c56b96e"
      },
      "source": [
        "### 1.4 Manejo del Dataset (2 puntos)\n",
        "\n",
        "Normaliza los valores de las columnas del dataset. ¿Por qué esto es importante para el análisis?"
      ]
    },
    {
      "cell_type": "markdown",
      "id": "34031921",
      "metadata": {
        "id": "34031921"
      },
      "source": [
        "**Respuesta**"
      ]
    },
    {
      "cell_type": "markdown",
      "id": "Ue7y2ARTc7aw",
      "metadata": {
        "id": "Ue7y2ARTc7aw"
      },
      "source": [
        "# Parte 2: Isolation Forest (15 puntos)"
      ]
    },
    {
      "cell_type": "markdown",
      "id": "M2zPfidlc-vb",
      "metadata": {
        "id": "M2zPfidlc-vb"
      },
      "source": [
        "### 2.1 Reduzca la cantidad de componente reteniendo el 95% de la varianza (1 punto)"
      ]
    },
    {
      "cell_type": "markdown",
      "id": "15te1baCdFJ3",
      "metadata": {
        "id": "15te1baCdFJ3"
      },
      "source": [
        "### 2.2 Utilizando 100 iTrees, cree una instancia de Isolation Forest. ¿Cuántos outliers detecta Isolation Forest y a qué clases verdaderas pertenecen? (3 puntos)"
      ]
    },
    {
      "cell_type": "markdown",
      "id": "KX8DcT1MrKrF",
      "metadata": {
        "id": "KX8DcT1MrKrF"
      },
      "source": [
        "### 2.3 ¿Como cambia el numero de de outliers detectados al variar el parametro ```contamination```? Utilize los valores ```[0.01, 0.05, 0.1, 0.2]``` (3 puntos)\n"
      ]
    },
    {
      "cell_type": "markdown",
      "id": "Yt4UgSJ-GiJl",
      "metadata": {
        "id": "Yt4UgSJ-GiJl"
      },
      "source": [
        "Respuesta: "
      ]
    },
    {
      "cell_type": "markdown",
      "id": "7tDc5DBurfAC",
      "metadata": {
        "id": "7tDc5DBurfAC"
      },
      "source": [
        "### 2.4 Grafique los \"anomaly scores\" e indique si se ve un umbral claro (2 puntos)"
      ]
    },
    {
      "cell_type": "markdown",
      "id": "P1br2mrXrl24",
      "metadata": {
        "id": "P1br2mrXrl24"
      },
      "source": [
        "### 2.5 Que tan estable es la detección de outliers si cambiamos la cantidad de arboles (```n_estimators```) (4 puntos)"
      ]
    },
    {
      "cell_type": "markdown",
      "id": "cuIMGNIGr0en",
      "metadata": {
        "id": "cuIMGNIGr0en"
      },
      "source": [
        "### 2.6 Grafique los utliers detectados en las primeras dos componentes principales. (Utilize parametro ```alpha=0.6```) (2 puntos)"
      ]
    },
    {
      "cell_type": "markdown",
      "id": "SP6S4bdSryx4",
      "metadata": {
        "id": "SP6S4bdSryx4"
      },
      "source": []
    },
    {
      "cell_type": "markdown",
      "id": "9ba5fe32",
      "metadata": {
        "id": "9ba5fe32"
      },
      "source": [
        "# Parte 3: HAC (15 puntos)"
      ]
    },
    {
      "cell_type": "markdown",
      "id": "a88e17c3",
      "metadata": {
        "id": "a88e17c3"
      },
      "source": [
        "### 3.1 Reliza un dendograma sin clusters y con distancia threshold igual a 0 para visualizar los datos. Debes usar linkage = \"single\" (1 punto)"
      ]
    },
    {
      "cell_type": "markdown",
      "id": "0dc5715a",
      "metadata": {
        "id": "0dc5715a"
      },
      "source": [
        "### 3.2.1 Realiza los Clustering de Agrupación Jerarquica (HAC) para cada distancia de clustering aglomerativo (linkage), prueba utilizando número de clusters entre 2 y 10. Calcula el Silhouette para ver cual funcionó mejor y explica el por qué de los resultados. (2.5 puntos)\n",
        "### 3.2.2 Ahora, realiza los Clustering de Agrupación Jerarquica (HAC) para cada tipo de linkage."
      ]
    },
    {
      "cell_type": "markdown",
      "id": "S3hGR1Z4Rrf7",
      "metadata": {
        "id": "S3hGR1Z4Rrf7"
      },
      "source": [
        "Se espera que expliquen cuál funcionó mejor"
      ]
    },
    {
      "cell_type": "markdown",
      "id": "da7f4c75",
      "metadata": {
        "id": "da7f4c75"
      },
      "source": [
        "### 3.3 Calcula el Silhouette para ver cual funcionó mejor y explica el por qué de los resultados, explicando cómo funciona cada linkage.\n"
      ]
    },
    {
      "cell_type": "markdown",
      "id": "31f43ba2",
      "metadata": {
        "id": "31f43ba2"
      },
      "source": [
        "### 3.4 Grafica los clusters utilizando un PCA de 2 dimensiones de los datos. Para ello debes utilizar la mejor combinación del enunciado anterior(1 punto)\n",
        "\n",
        "\n",
        "\n",
        "\n"
      ]
    },
    {
      "cell_type": "markdown",
      "id": "5d8826e0",
      "metadata": {
        "id": "5d8826e0"
      },
      "source": [
        "Con el análisis realizado, ¿Cuál es la importancia del criterio de vinculación al momento de agrupar los datos? Pruebe ahora utilizando solamente dos clusters y compare los graficos."
      ]
    },
    {
      "cell_type": "markdown",
      "id": "yQnMX7iDTQDD",
      "metadata": {
        "id": "yQnMX7iDTQDD"
      },
      "source": [
        "Deben explicar que el de 20 clusters se ve menos compacto y que los colores indican la cantidad de clusters, pudiendo ver más diferencias en el de 20."
      ]
    },
    {
      "cell_type": "markdown",
      "id": "4571b0f0",
      "metadata": {
        "id": "4571b0f0"
      },
      "source": [
        "# Parte 4: DBSCAN y HDBSCAN (15 puntos)"
      ]
    },
    {
      "cell_type": "markdown",
      "id": "ff77645e",
      "metadata": {
        "id": "ff77645e"
      },
      "source": [
        "### 4.1.- DBSCAN\n",
        "\n",
        "Utilizando DBSCAN, itera sobre valores de eps entre 0.25 y 2, con un salto de 0.25 por iteracion. Ademas, itera sobre el numero minimo de muestras, probando con 1, 2, 3 y 4. (3 puntos)"
      ]
    },
    {
      "cell_type": "markdown",
      "id": "0e56e1cb",
      "metadata": {
        "id": "0e56e1cb"
      },
      "source": [
        "**RESPUESTA:**"
      ]
    },
    {
      "cell_type": "markdown",
      "id": "df5c7121",
      "metadata": {
        "id": "df5c7121"
      },
      "source": [
        "#### 4.1.2 Con la información de los parametros anterior, calcula cual es el número de clusters óptimo para el modelo DBSCAN. (1.5 puntos)"
      ]
    },
    {
      "cell_type": "markdown",
      "id": "2c81dda3",
      "metadata": {
        "id": "2c81dda3"
      },
      "source": [
        "**RESPUESTA:**"
      ]
    },
    {
      "cell_type": "markdown",
      "id": "8188c92b",
      "metadata": {
        "id": "8188c92b"
      },
      "source": [
        "#### 4.1.3 Determine tambien el valor optimo del parametro `eps` y `min_samples` (0.5 puntos)"
      ]
    },
    {
      "cell_type": "markdown",
      "id": "6603d673",
      "metadata": {
        "id": "6603d673"
      },
      "source": [
        "**RESPUESTA:**"
      ]
    },
    {
      "cell_type": "markdown",
      "id": "76b32057",
      "metadata": {
        "id": "76b32057"
      },
      "source": [
        "#### 4.1.4 Obtenga el numero de clusters utilizando los parametros optimos encontrados. Explique por qué podría haber encontrado ese valor, el cual se puede o no ajustar al número de clases en el dataset. (1 puntos)"
      ]
    },
    {
      "cell_type": "markdown",
      "id": "964a38b2",
      "metadata": {
        "id": "964a38b2"
      },
      "source": [
        "**RESPUESTA:**"
      ]
    },
    {
      "cell_type": "markdown",
      "id": "da53b25b",
      "metadata": {
        "id": "da53b25b"
      },
      "source": [
        "Se espera un analisis de ajuste de datos a clusters contra las clases. Puntaje por analisis y justificacion."
      ]
    },
    {
      "cell_type": "markdown",
      "id": "8b01a31b",
      "metadata": {
        "id": "8b01a31b"
      },
      "source": [
        "### 4.2.- HDBSCAN\n",
        "\n",
        "Utilizando HDSCAN, cree un modelo con el `cluster_selection_epsilon` igual al caso de DBSCAN y determine el número de clusters. Itere sobre el min_cluster_size para encontrar el mejor silhoutte score. Compare el resultado con DBSCAN.  (3 puntos)"
      ]
    },
    {
      "cell_type": "markdown",
      "id": "20d9a60d",
      "metadata": {
        "id": "20d9a60d"
      },
      "source": [
        "**RESPUESTA:**"
      ]
    },
    {
      "cell_type": "markdown",
      "id": "086e1163",
      "metadata": {
        "id": "086e1163"
      },
      "source": [
        "#### 4.2.2 Grafique los clusters utilizando PCA de 2 dimensiones. (1 punto)"
      ]
    },
    {
      "cell_type": "markdown",
      "id": "15bb1a56",
      "metadata": {
        "id": "15bb1a56"
      },
      "source": [
        "**RESPUESTA:**"
      ]
    },
    {
      "cell_type": "markdown",
      "id": "27c50ca0",
      "metadata": {
        "id": "27c50ca0"
      },
      "source": [
        "¿Que representa cada cluster?"
      ]
    },
    {
      "cell_type": "markdown",
      "id": "f67d53bf",
      "metadata": {
        "id": "f67d53bf"
      },
      "source": [
        "**RESPUESTA:**"
      ]
    },
    {
      "cell_type": "markdown",
      "id": "3455eb3f",
      "metadata": {
        "id": "3455eb3f"
      },
      "source": [
        "### 4.4 Preguntas teoricas sobre HAC, DBSCAN y HDBSCAN (5 puntos)"
      ]
    },
    {
      "cell_type": "markdown",
      "id": "2e5d2e0c",
      "metadata": {
        "id": "2e5d2e0c"
      },
      "source": [
        "#### 4.4.1 En tus palabras, ¿Cómo funciona el Agglomerative Clustering? Además, menciona al menos 2 usos para HAC."
      ]
    },
    {
      "cell_type": "markdown",
      "id": "bc49f141",
      "metadata": {
        "id": "bc49f141"
      },
      "source": [
        "**RESPUESTA:**"
      ]
    },
    {
      "cell_type": "markdown",
      "id": "4b86cbf5",
      "metadata": {
        "id": "4b86cbf5"
      },
      "source": [
        "#### 4.4.2 Explique que representa un dendograma, mencionando cómo las ramas principales podrían significar las clases del datset."
      ]
    },
    {
      "cell_type": "markdown",
      "id": "d0a99d8e",
      "metadata": {
        "id": "d0a99d8e"
      },
      "source": [
        "**RESPUESTA:**"
      ]
    },
    {
      "cell_type": "markdown",
      "id": "c67219d4",
      "metadata": {
        "id": "c67219d4"
      },
      "source": [
        "#### 4.4.3 En el contexto del modelo DBSCAN, ¿Que es un core sample? ¿Que podría representar un core sample en términos de un dato en el dataset? Apóyese en la clases y sus características."
      ]
    },
    {
      "cell_type": "markdown",
      "id": "722a4711",
      "metadata": {
        "id": "722a4711"
      },
      "source": [
        "**RESPUESTA:**"
      ]
    },
    {
      "cell_type": "markdown",
      "id": "c0683a7b",
      "metadata": {
        "id": "c0683a7b"
      },
      "source": [
        "#### 4.4.4 En el modelo de DBSCAN se iteran sobre distintos parametros; eps y min_samples. ¿Qué representan estos parametros?"
      ]
    },
    {
      "cell_type": "markdown",
      "id": "3a0973ad",
      "metadata": {
        "id": "3a0973ad"
      },
      "source": [
        "**RESPUESTA:**"
      ]
    },
    {
      "cell_type": "markdown",
      "id": "e279d3cc",
      "metadata": {
        "id": "e279d3cc"
      },
      "source": [
        "#### 4.4.5 ¿Cuál es la diferencia entre DBSCAN y HDBSCAN? ¿Qué beneficios existen de usar un modelo sobre el otro?"
      ]
    },
    {
      "cell_type": "markdown",
      "id": "96815fa4",
      "metadata": {
        "id": "96815fa4"
      },
      "source": [
        "**RESPUESTA:**"
      ]
    },
    {
      "cell_type": "markdown",
      "id": "831edeb0",
      "metadata": {
        "id": "831edeb0"
      },
      "source": [
        "**RESPUESTA:**"
      ]
    },
    {
      "cell_type": "markdown",
      "id": "3c3df732",
      "metadata": {
        "id": "3c3df732"
      },
      "source": [
        "**Respuesta**"
      ]
    },
    {
      "cell_type": "markdown",
      "id": "e75673d1",
      "metadata": {
        "id": "e75673d1"
      },
      "source": [
        "**Para esta sección, utilize el modelo con mejor silhouette score obtenido.**"
      ]
    },
    {
      "cell_type": "markdown",
      "id": "e037db95",
      "metadata": {
        "id": "e037db95"
      },
      "source": [
        "# Parte 5: Comparación y eficiencia (5 puntos)"
      ]
    },
    {
      "cell_type": "markdown",
      "id": "c46f6a3d",
      "metadata": {
        "id": "c46f6a3d"
      },
      "source": [
        "#### 5.1 ¿Cuál de los métodos de clustering resultó ser el más eficiente entre HAC, DBSCAN, HDBSCAN o Isolation Forest? Da una explicación de por qué se puede deber el resultado."
      ]
    },
    {
      "cell_type": "markdown",
      "id": "6c83bb6d",
      "metadata": {
        "id": "6c83bb6d"
      },
      "source": [
        "**Respuesta**"
      ]
    }
  ],
  "metadata": {
    "colab": {
      "provenance": []
    },
    "kernelspec": {
      "display_name": "Python 3 (ipykernel)",
      "language": "python",
      "name": "python3"
    },
    "language_info": {
      "codemirror_mode": {
        "name": "ipython",
        "version": 3
      },
      "file_extension": ".py",
      "mimetype": "text/x-python",
      "name": "python",
      "nbconvert_exporter": "python",
      "pygments_lexer": "ipython3",
      "version": "3.10.12"
    }
  },
  "nbformat": 4,
  "nbformat_minor": 5
}
