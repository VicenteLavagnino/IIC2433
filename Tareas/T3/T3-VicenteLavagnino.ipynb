{
  "cells": [
    {
      "cell_type": "markdown",
      "metadata": {
        "id": "FyoSWRNG4V6j"
      },
      "source": [
        "Pontificia Universidad Católica de Chile <br>\n",
        "Departamento de Ciencia de la Computación <br>\n",
        "IIC2433 - Minería de Datos <br>\n",
        "Primer Semestre 2025 <br>\n",
        "\n",
        "<h1><center>Tarea 3</center></h1>\n",
        "<h1><center>Vicente Lavagnino</center></h1>\n",
        "\n",
        "\n",
        "Profesor: Marcelo Mendoza<br>\n",
        "Fecha de entrega: 07 de Mayo del 2025\n",
        "\n"
      ]
    },
    {
      "cell_type": "markdown",
      "metadata": {
        "id": "IqaM5wrU4V6o"
      },
      "source": [
        "## Indicaciones\n",
        "\n",
        "Se debe entregar **SOLO** el archivo .ipynb en el buzón respectivo en canvas.\n",
        "\n",
        "**IMPORTANTE**:\n",
        "- Se asignará puntaje por el código implementado y los comentarios asociados a resultados.\n",
        "- El notebook debe tener todas las celdas de código ejecutadas.\n",
        "- El carácter de esta tarea es INDIVIDUAL.\n"
      ]
    },
    {
      "cell_type": "markdown",
      "metadata": {
        "id": "HSMjfzjn6W42"
      },
      "source": [
        "**NOMBRE ESTUDIANTE:**"
      ]
    },
    {
      "cell_type": "markdown",
      "metadata": {
        "id": "qF99zSnD4V6o"
      },
      "source": [
        "## Librerías"
      ]
    },
    {
      "cell_type": "code",
      "execution_count": 1,
      "metadata": {
        "id": "eM5xDd9l4V6p"
      },
      "outputs": [],
      "source": [
        "import numpy as np\n",
        "import matplotlib.pyplot as plt\n",
        "import pandas as pd\n",
        "import seaborn as sns\n",
        "from collections import Counter\n",
        "\n",
        "from sklearn.mixture import GaussianMixture\n",
        "from sklearn.preprocessing import StandardScaler, MinMaxScaler, LabelEncoder, MultiLabelBinarizer\n",
        "from sklearn.decomposition import PCA\n",
        "from sklearn.model_selection import train_test_split\n",
        "from sklearn.manifold import TSNE\n",
        "from sklearn.neighbors import KNeighborsClassifier\n",
        "\n",
        "from sklearn.metrics import classification_report, f1_score, confusion_matrix, ConfusionMatrixDisplay\n",
        "\n",
        "from mlxtend.frequent_patterns import apriori, association_rules\n",
        "from mlxtend.preprocessing import TransactionEncoder\n",
        "\n",
        "##Importa acá las librerias que vayas a utilizar"
      ]
    },
    {
      "cell_type": "markdown",
      "metadata": {
        "id": "E62-SJHc8J4w"
      },
      "source": [
        "## Introducción"
      ]
    },
    {
      "cell_type": "markdown",
      "metadata": {
        "id": "x8Rk2XJl8LjI"
      },
      "source": [
        "El conjunto de datos cuenta con un total de 785 columnas. La columna \"label\" indica la clase a la que pertenece cada registro, es decir, el tipo de prenda representada en la imagen. A continuación, se detallan las clases asociadas a esta columna y su correspondencia numérica:\n",
        "\n",
        "0: T-shirt/top\n",
        "\n",
        "1: Trouser\n",
        "\n",
        "2: Pullover\n",
        "\n",
        "3: Dress\n",
        "\n",
        "4: Coat\n",
        "\n",
        "5: Sandal\n",
        "\n",
        "6: Shirt\n",
        "\n",
        "7: Sneaker\n",
        "\n",
        "8: Bag\n",
        "\n",
        "9: Ankle boot\n",
        "\n",
        "Por otra parte, las columnas cuyo nombre comienza con \"pixel\" representan las características de cada imagen. En total, hay 784 columnas de este tipo, las cuales representan imágenes de tamaño 28 x 28 píxeles.\n"
      ]
    },
    {
      "cell_type": "markdown",
      "metadata": {
        "id": "4WOcFvN44V6r"
      },
      "source": [
        "## Parte 1: Carga y Preprocesamiento de Datos (8 puntos)"
      ]
    },
    {
      "cell_type": "markdown",
      "metadata": {
        "id": "36ztPA4lnwa4"
      },
      "source": [
        "En esta primera etapa, se debe cargar el conjunto de datos y luego analizar el comportamiento de algunas variables de interés. Posteriormente, se deberá llevar a cabo el proceso de normalización de los datos.\n",
        "\n"
      ]
    },
    {
      "cell_type": "markdown",
      "metadata": {
        "id": "MkAOWbN04V6r"
      },
      "source": [
        "## 1.1 Carga de Datos (3 puntos)\n",
        "\n",
        "Cargue el conjunto de datos utilizando la función read_csv de la biblioteca pandas y asígnelo a la variable df.\n",
        "¿Cuántos registros (artículos) contiene el dataset?\n",
        "\n",
        "Luego, grafique la cantidad de productos por clase utilizando la columna label.\n",
        "¿El conjunto de datos está balanceado en cuanto a la distribución de clases?"
      ]
    },
    {
      "cell_type": "markdown",
      "metadata": {
        "id": "zCfpQfO6_S9c"
      },
      "source": [
        "RESPUESTA"
      ]
    },
    {
      "cell_type": "code",
      "execution_count": null,
      "metadata": {
        "id": "Ts-SMK6-_Hbx"
      },
      "outputs": [],
      "source": []
    },
    {
      "cell_type": "markdown",
      "metadata": {
        "id": "R3ra6qBKYHFG"
      },
      "source": [
        "**Observación:**\n",
        "\n",
        "Utilice la siguiente celda de código para graficar las imágenes."
      ]
    },
    {
      "cell_type": "code",
      "execution_count": null,
      "metadata": {
        "id": "-C_R50-ISH-T"
      },
      "outputs": [],
      "source": [
        "#Se separa el dataset en label (y) y variables explicativas (X).\n",
        "y = df.label.copy()\n",
        "X = df.drop(\"label\",axis=1)\n",
        "# Graficar ejemplos\n",
        "fig, axs = plt.subplots(nrows=10, ncols=10, figsize=(10, 10))\n",
        "for idx, ax in enumerate(axs.ravel()):\n",
        "    ax.imshow(X.to_numpy()[idx].reshape((28, 28)), cmap=plt.cm.copper) #notar que el dataframe X se lee como un arreglo de numpy para aplicar reshape y ajustar la dimensión por imagen\n",
        "    ax.set_title(f\"Label = {y.iloc[idx]}\", fontsize=7, pad=3)\n",
        "    ax.axis(\"off\")\n",
        "_ = fig.suptitle(\"Plot dataset\", fontsize=12)"
      ]
    },
    {
      "cell_type": "markdown",
      "metadata": {
        "id": "sChl830E4V6v"
      },
      "source": [
        "## 1.2 Normalizar datos (2 puntos)\n",
        "\n",
        "Realice el proceso de normalización sobre la matriz de variables explicativas utilizando el método MinMaxScaler."
      ]
    },
    {
      "cell_type": "markdown",
      "metadata": {
        "id": "va618VJD_V6n"
      },
      "source": [
        "RESPUESTA"
      ]
    },
    {
      "cell_type": "code",
      "execution_count": null,
      "metadata": {
        "id": "LAFFbf91_OKL"
      },
      "outputs": [],
      "source": []
    },
    {
      "cell_type": "markdown",
      "metadata": {
        "id": "vGSbAmpIoI59"
      },
      "source": [
        "## 1.3 Reducción de dimensionalidad (3 puntos)\n",
        "\n",
        "Aplique el método PCA sobre el dataset normalizado para reducir su dimensionalidad, asegurando que se retenga el 90% de la varianza.\n",
        "¿Qué número de componentes se requiere?"
      ]
    },
    {
      "cell_type": "markdown",
      "metadata": {
        "id": "0Vfk8Jz9o3zN"
      },
      "source": [
        "RESPUESTA:"
      ]
    },
    {
      "cell_type": "code",
      "execution_count": null,
      "metadata": {
        "id": "CjVeJ5wh_X4g"
      },
      "outputs": [],
      "source": []
    },
    {
      "cell_type": "markdown",
      "metadata": {
        "id": "u7ciysiwRkgW"
      },
      "source": [
        "#Parte 2: Clasificador KNN (20 puntos)"
      ]
    },
    {
      "cell_type": "markdown",
      "metadata": {
        "id": "0Txn7hyycyPP"
      },
      "source": [
        "**En esta sección, deberá trabajar con el conjunto de datos normalizado obtenido en la pregunta 1.3, al cual se le ha aplicado el método PCA para reducir su dimensionalidad.**"
      ]
    },
    {
      "cell_type": "markdown",
      "metadata": {
        "id": "vOobtqlwR1gw"
      },
      "source": [
        "##2.1 Visualización PCA (3 puntos)\n",
        "\n",
        "Utilizando los primeros dos componentes principales de PCA, cree un gráfico para visualizar la distribución de clases del conjunto de datos.\n",
        "\n",
        "¿Se observa algún patrón en la distribución?\n",
        "\n",
        "**Observación:**\n",
        "\n",
        "Cada punto del gráfico debe tener un color de acuerdo a su label.\n",
        "\n"
      ]
    },
    {
      "cell_type": "markdown",
      "metadata": {
        "id": "P8f8xNDwfnL3"
      },
      "source": [
        "RESPUESTA:"
      ]
    },
    {
      "cell_type": "code",
      "execution_count": null,
      "metadata": {
        "id": "i2d-ebyI_a-z"
      },
      "outputs": [],
      "source": []
    },
    {
      "cell_type": "markdown",
      "metadata": {
        "id": "LPDa0K52fLmy"
      },
      "source": [
        "## 2.2 Visualización con TSNE (3 puntos)\n",
        "\n",
        "Ajuste un modelo de T-SNE utilizando 2 componentes. Justifique la elección de los hiperparámetros utilizados.\n",
        "\n",
        "Construya un gráfico para visualizar los resultados del modelo.\n",
        "\n",
        "¿Reconoce algún patrón en los datos? Compare los resultados obtenidos con el gráfico generado en el punto 2.1.\n",
        "\n",
        "**Observación:**\n",
        "\n",
        "Cada punto del gráfico debe tener un color de acuerdo a su label (variable y)"
      ]
    },
    {
      "cell_type": "markdown",
      "metadata": {
        "id": "k1bo6Kf7flCZ"
      },
      "source": [
        "RESPUESTA:"
      ]
    },
    {
      "cell_type": "code",
      "execution_count": null,
      "metadata": {
        "id": "MMAWzaWO_epm"
      },
      "outputs": [],
      "source": []
    },
    {
      "cell_type": "markdown",
      "metadata": {
        "id": "dJ0YVbO2d-cU"
      },
      "source": [
        "##2.3 Crear conjuntos train y test (2 puntos)\n",
        "\n",
        "Cree los conjuntos train y test, a partir del conjunto de datos obtenido en 1.3.Considere un conjuto de test equivalente al 20%.\n",
        "\n",
        "\n"
      ]
    },
    {
      "cell_type": "markdown",
      "metadata": {
        "id": "G2Y9CdJB_gDn"
      },
      "source": [
        "RESPUESTA"
      ]
    },
    {
      "cell_type": "code",
      "execution_count": null,
      "metadata": {
        "id": "ZfiDhIpL18WM"
      },
      "outputs": [],
      "source": []
    },
    {
      "cell_type": "markdown",
      "metadata": {
        "id": "mz4j7Juhet1g"
      },
      "source": [
        "## 2.4 Entrenar clasificador KNN (6 puntos)\n",
        "\n",
        "Cree clasificadores utilizando KNeighborsClassifier. Para seleccionar el número de vecinos, ajuste el hiperparámetro en el rango de 3 a 15, tomando la decisión en función de la métrica F1-score (utilice el parámetro average=\"macro\").\n",
        "\n",
        "Luego, para el mejor clasificador, muestre las métricas de precisión, recall y F1-score por clase. Analice los resultados obtenidos.\n",
        "\n",
        "**Observación:**\n",
        "\n",
        "Para la métrica F1-score puede utilizar la siguiente función:\n",
        "\n",
        "https://scikit-learn.org/stable/modules/generated/sklearn.metrics.f1_score.html\n"
      ]
    },
    {
      "cell_type": "markdown",
      "metadata": {
        "id": "zcJLd-zpjs9m"
      },
      "source": [
        "RESPUESTA:"
      ]
    },
    {
      "cell_type": "code",
      "execution_count": null,
      "metadata": {
        "id": "7AIHA2wc_k_g"
      },
      "outputs": [],
      "source": []
    },
    {
      "cell_type": "markdown",
      "metadata": {
        "id": "-9esaCZrptT8"
      },
      "source": [
        "##2.5 Evaluación manual de casos (6 puntos)\n",
        "\n",
        "Para profundizar en el análisis, construya una matriz de confusión que permita identificar en qué clases se producen las principales inconsistencias. Analice los resultados obtenidos.\n",
        "\n",
        "Luego, considere el label que obtuvo la peor métrica en F1-score. Evalúe 20 casos en los que la etiqueta observada no coincida con la predicción. Presente un gráfico con los elementos considerados (como se visualiza en 1.1).\n",
        "\n",
        "¿Puede reconocer algún patrón?\n",
        "\n",
        "\n",
        "**Observación:**\n",
        "\n",
        "Debe trabajar con el conjunto de test."
      ]
    },
    {
      "cell_type": "markdown",
      "metadata": {
        "id": "l3UHYVFjqntx"
      },
      "source": [
        "RESPUESTA:"
      ]
    },
    {
      "cell_type": "code",
      "execution_count": null,
      "metadata": {
        "id": "iWXZOZdJ_qEe"
      },
      "outputs": [],
      "source": []
    },
    {
      "cell_type": "markdown",
      "metadata": {
        "id": "sl8AHuBEP17n"
      },
      "source": [
        "#Parte 3: Creación de datos sintéticos (20 puntos)\n",
        "\n",
        "En esta sección debe trabajar con los **conjuntos de train** creados en el punto 2.3. Es decir, **X_train** e **y_train**"
      ]
    },
    {
      "cell_type": "markdown",
      "metadata": {
        "id": "nAIVqkp6mwqt"
      },
      "source": [
        "## 3.1 Ajustar modelo GMM (6 puntos)\n",
        "\n",
        "Determine el número óptimo de componentes para el modelo Gaussian Mixture Model utilizando la métrica AIC. Considere valores en el intervalo de 1 a 100, con un paso de 5 entre cada valor.\n",
        "\n",
        "Luego, grafique la relación entre el número de componentes y el valor de la métrica AIC.\n",
        "\n",
        "**Observación:**\n",
        "\n",
        "Este paso puede demorar cerca de 30 minutos."
      ]
    },
    {
      "cell_type": "code",
      "execution_count": null,
      "metadata": {
        "id": "Y0_vsQv-_t7I"
      },
      "outputs": [],
      "source": []
    },
    {
      "cell_type": "markdown",
      "metadata": {
        "id": "POk13ohNob4K"
      },
      "source": [
        "## 3.2 Crear datos sintéticos (8 puntos)\n",
        "\n",
        "Cree una muestra de 30 elementos sintéticos utilizando el mejor modelo ajustado en el punto anterior.\n",
        "\n",
        "Luego, grafique los datos generados y comente sobre su calidad.\n",
        "\n"
      ]
    },
    {
      "cell_type": "markdown",
      "metadata": {
        "id": "Ktx2SvU7ox9S"
      },
      "source": [
        "RESPUESTA:"
      ]
    },
    {
      "cell_type": "code",
      "execution_count": null,
      "metadata": {
        "id": "zSpANHmK_wgS"
      },
      "outputs": [],
      "source": []
    },
    {
      "cell_type": "markdown",
      "metadata": {
        "id": "EztE4U58oqdy"
      },
      "source": [
        "## 3.3 Evaluar calidad (6 puntos)\n",
        "\n",
        "Aplique el clasificador creado en el punto 2.4 sobre los ejemplos sintéticos generados.\n",
        "\n",
        "¿El clasificador es capaz de detectar correctamente las imágenes?\n",
        "\n",
        "Analice los resultados obtenidos.\n",
        "\n"
      ]
    },
    {
      "cell_type": "markdown",
      "metadata": {
        "id": "AdV28-4FoxhL"
      },
      "source": [
        "RESPUESTA:"
      ]
    },
    {
      "cell_type": "code",
      "execution_count": null,
      "metadata": {
        "id": "nYgwGe8m_5xq"
      },
      "outputs": [],
      "source": []
    },
    {
      "cell_type": "markdown",
      "metadata": {
        "id": "wfVHhcjwP3lM"
      },
      "source": [
        "#Parte 4: Reglas de asociación (12 puntos)"
      ]
    },
    {
      "cell_type": "markdown",
      "metadata": {
        "id": "7wannLAz2A7e"
      },
      "source": [
        "En esta sección se trabajará con un dataset que simula el comportamiento de usuarios en una plataforma de streaming 🎥, registrando las series de TV que han visualizado. Cada fila del archivo representa a un usuario distinto (un total de 100 usuarios) e incluye una lista de las series que ha visto un usuario durante un período determinado.\n",
        "\n",
        "Las series están separadas por comas (\",\").\n",
        "\n",
        "El dataset está disponible en Canvas."
      ]
    },
    {
      "cell_type": "markdown",
      "metadata": {
        "id": "nP1elgyPOji-"
      },
      "source": [
        "## 4.1 Carga de datos y One hot encoding (3 puntos)"
      ]
    },
    {
      "cell_type": "markdown",
      "metadata": {
        "id": "UwQ4HEWWP-X8"
      },
      "source": [
        "Cargue el dataset utilizando la función read_csv de pandas. ¿Cuál o cuáles son las series más frecuentes dentro del dataset?\n",
        "\n",
        "Luego, utilice TransactionEncoder() para codificar las transacciones en vectores."
      ]
    },
    {
      "cell_type": "markdown",
      "metadata": {
        "id": "c1MNOdqR_9fD"
      },
      "source": [
        "RESPUESTA"
      ]
    },
    {
      "cell_type": "code",
      "execution_count": null,
      "metadata": {
        "id": "79izz9Nq_-Hf"
      },
      "outputs": [],
      "source": []
    },
    {
      "cell_type": "markdown",
      "metadata": {
        "id": "w5FcfhNySwhe"
      },
      "source": [
        "## 4.2 Matriz de co-ocurrencia (3 puntos)\n",
        "\n"
      ]
    },
    {
      "cell_type": "markdown",
      "metadata": {
        "id": "uiaFjMprS374"
      },
      "source": [
        "Genera la matriz de co-ocurrencia para observar con qué frecuencia las series de TV aparecen juntas.\n",
        "\n",
        "¿Qué pares de series parecen estar fuertemente relacionadas, sin considerar la diagonal de la matriz?\n",
        "\n",
        "¿Qué hipótesis puedes plantear sobre por qué estas series se ven juntas?\n",
        "\n"
      ]
    },
    {
      "cell_type": "markdown",
      "metadata": {
        "id": "u3rKSBDjAAI_"
      },
      "source": [
        "RESPUESTA"
      ]
    },
    {
      "cell_type": "code",
      "execution_count": null,
      "metadata": {
        "id": "_HHBlQyM__rX"
      },
      "outputs": [],
      "source": []
    },
    {
      "cell_type": "markdown",
      "metadata": {
        "id": "oel_j9dUTdtH"
      },
      "source": [
        "## 4.3 Algoritmo Apriori (3 puntos)"
      ]
    },
    {
      "cell_type": "markdown",
      "metadata": {
        "id": "wYaVuudxUkiO"
      },
      "source": [
        "Aplica el algoritmo Apriori con min_support = 0.2 y analiza los resultados obtenidos.\n",
        "\n",
        "A continuación, genera las reglas de asociación utilizando association_rules, con un umbral min_threshold = 0.6, y comenta los resultados obtenidos.\n",
        "\n",
        "¿Cómo podrían estas reglas ser utilizadas para hacer recomendaciones personalizadas a los usuarios?"
      ]
    },
    {
      "cell_type": "markdown",
      "metadata": {
        "id": "REV82yfvACw-"
      },
      "source": [
        "RESPUESTA"
      ]
    },
    {
      "cell_type": "code",
      "execution_count": null,
      "metadata": {
        "id": "xUifFDOiADcR"
      },
      "outputs": [],
      "source": []
    },
    {
      "cell_type": "markdown",
      "metadata": {
        "id": "saWXyuRq5CLV"
      },
      "source": [
        "## 4.4 Aplicación del Algoritmo Apriori Excluyendo 'Better Call Saul' y 'Breaking Bad' (3 puntos)"
      ]
    },
    {
      "cell_type": "markdown",
      "metadata": {
        "id": "Y8YnQprt6giX"
      },
      "source": [
        "Vuelve a aplicar el algoritmo Apriori utilizando la matriz de vectores normalizados (one-hot encoding), excluyendo las series 'Better Call Saul' y 'Breaking Bad'.\n",
        "\n",
        "Prueba el algoritmo variando el hiperparámetro min_support en los valores [0.05, 0.1, 0.2]. Luego, para el min_threshold, prueba valores en el rango [0.1, 0.3, 0.6].\n",
        "\n",
        "¿Es posible generar reglas utilizando los mismos valores de hiperparámetro utilizados en el punto 4.3? Si no se generan reglas, ajusta los valores dentro de los rangos de parámetros posibles para cada uno y comenta los resultados.\n",
        "\n",
        "Finalmente, explica qué significan los hiperparámetros min_support y min_threshold en el contexto del algoritmo Apriori.\n"
      ]
    },
    {
      "cell_type": "markdown",
      "metadata": {
        "id": "HOVopnQDAG0R"
      },
      "source": [
        "RESPUESTA"
      ]
    },
    {
      "cell_type": "code",
      "execution_count": null,
      "metadata": {
        "id": "k-t7afPbAHf4"
      },
      "outputs": [],
      "source": []
    }
  ],
  "metadata": {
    "colab": {
      "provenance": []
    },
    "kernelspec": {
      "display_name": "venv_umap",
      "language": "python",
      "name": "python3"
    },
    "language_info": {
      "codemirror_mode": {
        "name": "ipython",
        "version": 3
      },
      "file_extension": ".py",
      "mimetype": "text/x-python",
      "name": "python",
      "nbconvert_exporter": "python",
      "pygments_lexer": "ipython3",
      "version": "3.11.10"
    },
    "orig_nbformat": 4
  },
  "nbformat": 4,
  "nbformat_minor": 0
}
